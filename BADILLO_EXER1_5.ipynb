{
  "nbformat": 4,
  "nbformat_minor": 0,
  "metadata": {
    "colab": {
      "provenance": []
    },
    "kernelspec": {
      "name": "python3",
      "display_name": "Python 3"
    },
    "language_info": {
      "name": "python"
    }
  },
  "cells": [
    {
      "cell_type": "markdown",
      "source": [
        "# **Assessment Task 1: Basic Probability Calculations**"
      ],
      "metadata": {
        "id": "Q87h_Svw_kJB"
      }
    },
    {
      "cell_type": "markdown",
      "source": [
        "**Coding task:**"
      ],
      "metadata": {
        "id": "ZlTXMIeuUBx8"
      }
    },
    {
      "cell_type": "code",
      "source": [
        "\n",
        "def joint_probability(p_A, p_B):\n",
        "    return p_A * p_B\n",
        "\n",
        "\n",
        "def marginal_probability(p_event):\n",
        "    return p_event\n",
        "\n",
        "\n",
        "def conditional_probability(p_A_and_B, p_A):\n",
        "    if p_A == 0:\n",
        "        return \"Probability of A cannot be zero.\"\n",
        "    return p_A_and_B / p_A\n"
      ],
      "metadata": {
        "id": "Zuqx7slb_oqZ"
      },
      "execution_count": 26,
      "outputs": []
    },
    {
      "cell_type": "markdown",
      "source": [
        "**2. Interactive Question:**\n",
        "\n",
        "• Question: If the probability of event A is 0.3 and the probability of event B is 0.4,\n",
        "what is the joint probability of A and B assuming they are independent?"
      ],
      "metadata": {
        "id": "B3LEvQXGUF8N"
      }
    },
    {
      "cell_type": "code",
      "source": [
        "\n",
        "def joint_probability(p_A, p_B):\n",
        "    return p_A * p_B\n",
        "\n",
        "\n",
        "def marginal_probability(p_event):\n",
        "    return p_event\n",
        "\n",
        "def conditional_probability(p_A_and_B, p_A):\n",
        "    if p_A == 0:\n",
        "        return \"Probability of A cannot be zero.\"\n",
        "    return p_A_and_B / p_A\n",
        "\n",
        "\n",
        "p_A = 0.3\n",
        "p_B = 0.4\n",
        "\n",
        "\n",
        "joint_prob = joint_probability(p_A, p_B)\n",
        "\n",
        "\n",
        "print(f\"Joint Probability of A and B: {joint_prob}\")\n"
      ],
      "metadata": {
        "colab": {
          "base_uri": "https://localhost:8080/"
        },
        "id": "H6l8Qdt2UGTQ",
        "outputId": "1e9ba23f-e467-48cc-87d6-d79f8fe7c49d"
      },
      "execution_count": null,
      "outputs": [
        {
          "output_type": "stream",
          "name": "stdout",
          "text": [
            "Joint Probability of A and B: 0.12\n"
          ]
        }
      ]
    },
    {
      "cell_type": "markdown",
      "source": [
        "**3. Feed back**"
      ],
      "metadata": {
        "id": "MLikA5NpCenn"
      }
    },
    {
      "cell_type": "code",
      "source": [
        "\n",
        "def joint_probability(p_A, p_B):\n",
        "    return p_A * p_B\n",
        "\n",
        "\n",
        "def provide_feedback(user_result, correct_result):\n",
        "    if user_result == correct_result:\n",
        "        return f\"Correct! The result is {correct_result}. You used the correct formula.\"\n",
        "    else:\n",
        "        return f\"Incorrect. The correct result is {correct_result}. Check the formula: P(A ∩ B) = P(A) * P(B).\"\n",
        "\n",
        "p_A = 0.3\n",
        "p_B = 0.4\n",
        "\n",
        "correct_joint_prob = joint_probability(p_A, p_B)\n",
        "\n",
        "\n",
        "user_result = 0.12\n",
        "\n",
        "feedback = provide_feedback(user_result, correct_joint_prob)\n",
        "print(feedback)\n"
      ],
      "metadata": {
        "colab": {
          "base_uri": "https://localhost:8080/"
        },
        "id": "2YdOOyeBURVO",
        "outputId": "404cd2b9-2ff0-4ba3-e0b1-a6f4faa2d4a0"
      },
      "execution_count": null,
      "outputs": [
        {
          "output_type": "stream",
          "name": "stdout",
          "text": [
            "Correct! The result is 0.12. You used the correct formula.\n"
          ]
        }
      ]
    },
    {
      "cell_type": "markdown",
      "source": [
        "# **Assessment Task 2: Bayesian Inference**"
      ],
      "metadata": {
        "id": "lNizPfXPUZ-p"
      }
    },
    {
      "cell_type": "code",
      "source": [
        "def bayesian_inference(prior_D, likelihood_T_given_D, likelihood_T_given_not_D):\n",
        "\n",
        "    prior_not_D = 1 - prior_D\n",
        "\n",
        "\n",
        "    evidence_T = (likelihood_T_given_D * prior_D) + (likelihood_T_given_not_D * prior_not_D)\n",
        "\n",
        "\n",
        "    posterior_D_given_T = (likelihood_T_given_D * prior_D) / evidence_T\n",
        "\n",
        "    return posterior_D_given_T\n",
        "\n",
        "prior_D = 0.01\n",
        "likelihood_T_given_D = 0.9\n",
        "likelihood_T_given_not_D = 0.05\n",
        "\n",
        "posterior_D_given_T = bayesian_inference(prior_D, likelihood_T_given_D, likelihood_T_given_not_D)\n",
        "\n",
        "\n",
        "print(f\"Probability of having the disease given a positive test result: {posterior_D_given_T:.4f}\")\n",
        "\n",
        "\n",
        "def provide_bayes_feedback(posterior_prob):\n",
        "    if posterior_prob > 0.5:\n",
        "        return \"The result shows that someone with a positive test result is likely to have the disease.\"\n",
        "    else:\n",
        "        return \"Even with a positive test result, the chance of having the disease is still relatively low.\"\n",
        "\n",
        "\n",
        "feedback = provide_bayes_feedback(posterior_D_given_T)\n",
        "print(feedback)\n"
      ],
      "metadata": {
        "colab": {
          "base_uri": "https://localhost:8080/"
        },
        "id": "yqsR53NUUaIk",
        "outputId": "e054d786-e215-411f-a144-31f3919a8f16"
      },
      "execution_count": null,
      "outputs": [
        {
          "output_type": "stream",
          "name": "stdout",
          "text": [
            "Probability of having the disease given a positive test result: 0.1538\n",
            "Even with a positive test result, the chance of having the disease is still relatively low.\n"
          ]
        }
      ]
    },
    {
      "cell_type": "markdown",
      "source": [
        "# **Assessment Task 3: Decision-Making Under Uncertainty**"
      ],
      "metadata": {
        "id": "J25LbNDpTT7L"
      }
    },
    {
      "cell_type": "code",
      "source": [
        "import numpy as np\n",
        "\n",
        "\n",
        "def simulate_decision(num_simulations, p_success, reward_success, reward_failure):\n",
        "    outcomes = []\n",
        "\n",
        "    for _ in range(num_simulations):\n",
        "        if np.random.rand() < p_success:\n",
        "            outcomes.append(reward_success)\n",
        "        else:\n",
        "            outcomes.append(reward_failure)\n",
        "\n",
        "    average_outcome = np.mean(outcomes)\n",
        "    return average_outcome\n",
        "\n",
        "\n",
        "num_simulations = 1000\n",
        "p_success = 0.7\n",
        "reward_success = 1000\n",
        "reward_failure = -500\n",
        "\n",
        "average_return = simulate_decision(num_simulations, p_success, reward_success, reward_failure)\n",
        "print(f\"Average return after {num_simulations} iterations: ${average_return:.2f}\")\n",
        "\n",
        "p_success_adjusted = 0.5\n",
        "average_return_adjusted = simulate_decision(num_simulations, p_success_adjusted, reward_success, reward_failure)\n",
        "print(f\"Average return with 50% probability after {num_simulations} iterations: ${average_return_adjusted:.2f}\")\n"
      ],
      "metadata": {
        "colab": {
          "base_uri": "https://localhost:8080/"
        },
        "id": "7cSLUoL_TYJs",
        "outputId": "6949ea21-2d12-402d-e6de-4eb517693169"
      },
      "execution_count": null,
      "outputs": [
        {
          "output_type": "stream",
          "name": "stdout",
          "text": [
            "Average return after 1000 iterations: $526.00\n",
            "Average return with 50% probability after 1000 iterations: $281.50\n"
          ]
        }
      ]
    },
    {
      "cell_type": "markdown",
      "source": [
        "4**. Feedback and Explanation:**\n",
        "\n",
        "Bayesian-like thinking comes into play here: the decision-making process is influenced by the probability distributions of success and failure. The higher the probability of success, the higher the expected return."
      ],
      "metadata": {
        "id": "pg_g2e6-Tnqj"
      }
    },
    {
      "cell_type": "markdown",
      "source": [
        "# **Assessment Task 4: Real-World Scenario**"
      ],
      "metadata": {
        "id": "ycsV6_3OUmGH"
      }
    },
    {
      "cell_type": "code",
      "source": [
        "import numpy as np\n",
        "import matplotlib.pyplot as plt\n",
        "\n",
        "\n",
        "def predict_rain(humidity, cloud_cover):\n",
        "\n",
        "    P_rain = 0.3\n",
        "    P_no_rain = 1 - P_rain\n",
        "\n",
        "    P_humidity_given_rain = humidity * 0.8\n",
        "    P_cloud_cover_given_rain = cloud_cover * 0.9\n",
        "\n",
        "    P_humidity_given_no_rain = humidity * 0.3\n",
        "    P_cloud_cover_given_no_rain = cloud_cover * 0.4\n",
        "\n",
        "    likelihood_rain = P_humidity_given_rain * P_cloud_cover_given_rain\n",
        "    likelihood_no_rain = P_humidity_given_no_rain * P_cloud_cover_given_no_rain\n",
        "\n",
        "\n",
        "    P_rain_given_conditions = (likelihood_rain * P_rain) / (likelihood_rain * P_rain + likelihood_no_rain * P_no_rain)\n",
        "    return P_rain_given_conditions\n",
        "\n",
        "\n",
        "humidity = np.linspace(0, 1, 100)\n",
        "cloud_cover = np.linspace(0, 1, 100)\n",
        "\n",
        "rain_probs = [predict_rain(h, c) for h, c in zip(humidity, cloud_cover)]\n",
        "\n",
        "plt.plot(humidity, rain_probs, label='Probability of Rain')\n",
        "plt.xlabel('Humidity (0-1)')\n",
        "plt.ylabel('Probability of Rain')\n",
        "plt.title('Rain Prediction Based on Humidity and Cloud Cover')\n",
        "plt.show()\n"
      ],
      "metadata": {
        "colab": {
          "base_uri": "https://localhost:8080/",
          "height": 507
        },
        "id": "C5B5xokNUmOb",
        "outputId": "2c7d19d4-9a78-4427-8177-5084679bffd9"
      },
      "execution_count": null,
      "outputs": [
        {
          "output_type": "stream",
          "name": "stderr",
          "text": [
            "<ipython-input-24-fd7ae84fd567>:23: RuntimeWarning: invalid value encountered in scalar divide\n",
            "  P_rain_given_conditions = (likelihood_rain * P_rain) / (likelihood_rain * P_rain + likelihood_no_rain * P_no_rain)\n"
          ]
        },
        {
          "output_type": "display_data",
          "data": {
            "text/plain": [
              "<Figure size 640x480 with 1 Axes>"
            ],
            "image/png": "[encoded data removed]"
          },
          "metadata": {}
        }
      ]
    },
    {
      "cell_type": "markdown",
      "source": [
        "**Feedback:**\n",
        "\n",
        "After submitting my input, the results will show how increasing or decreasing humidity or cloud cover impacts the prediction of rain.\n",
        "Higher humidity and more cloud cover will increase the likelihood of rain in the model.\n"
      ],
      "metadata": {
        "id": "sc0HIaEuVnb7"
      }
    },
    {
      "cell_type": "markdown",
      "source": [
        "# **Assessment Task 5: Probability Distributions Visualization**"
      ],
      "metadata": {
        "id": "YBJ_pYfHU8AD"
      }
    },
    {
      "cell_type": "markdown",
      "source": [
        "**Task**: Simulate 1000 coin flips using a binomial distribution and visualize the\n",
        "outcomes"
      ],
      "metadata": {
        "id": "RtQQ2l9BXTT6"
      }
    },
    {
      "cell_type": "code",
      "source": [
        "import numpy as np\n",
        "import matplotlib.pyplot as plt\n",
        "\n",
        "coin_flips = np.random.binomial(n=1, p=0.5, size=1000)\n",
        "\n",
        "plt.hist(coin_flips, bins=2, edgecolor='black')\n",
        "plt.title('Binomial Distribution: 1000 Coin Flips')\n",
        "plt.show()\n"
      ],
      "metadata": {
        "colab": {
          "base_uri": "https://localhost:8080/",
          "height": 452
        },
        "id": "PtfPy2kmU8HW",
        "outputId": "22267049-29d1-4cfb-8066-d1897a9feed1"
      },
      "execution_count": null,
      "outputs": [
        {
          "output_type": "display_data",
          "data": {
            "text/plain": [
              "<Figure size 640x480 with 1 Axes>"
            ],
            "image/png": "[encoded data removed]"
          },
          "metadata": {}
        }
      ]
    },
    {
      "cell_type": "markdown",
      "source": [
        "**Follow up and feedback:**\n",
        "\n",
        "Increasing the number of trials makes the distribution more stable and closer to the expected probabilities . Changing the probability of heads shifts the distribution—higher probabilities result in more heads than tails."
      ],
      "metadata": {
        "id": "0Dq9XUAmX1Yl"
      }
    }
  ]
}