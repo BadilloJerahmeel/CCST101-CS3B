{
  "nbformat": 4,
  "nbformat_minor": 0,
  "metadata": {
    "colab": {
      "provenance": []
    },
    "kernelspec": {
      "name": "python3",
      "display_name": "Python 3"
    },
    "language_info": {
      "name": "python"
    }
  },
  "cells": [
    {
      "cell_type": "markdown",
      "source": [
        "# **Exercise1:Setting Up the Environment**"
      ],
      "metadata": {
        "id": "hvZItTUqTlXg"
      }
    },
    {
      "cell_type": "code",
      "source": [
        "pip install pgmpy matplotlib networkx"
      ],
      "metadata": {
        "colab": {
          "base_uri": "https://localhost:8080/"
        },
        "id": "OBI6RPK3Tlea",
        "outputId": "2fb0c35b-9135-4242-c2a8-7482e845d3b5"
      },
      "execution_count": 2,
      "outputs": [
        {
          "output_type": "stream",
          "name": "stdout",
          "text": [
            "Requirement already satisfied: pgmpy in /usr/local/lib/python3.10/dist-packages (0.1.26)\n",
            "Requirement already satisfied: matplotlib in /usr/local/lib/python3.10/dist-packages (3.8.0)\n",
            "Requirement already satisfied: networkx in /usr/local/lib/python3.10/dist-packages (3.4.2)\n",
            "Requirement already satisfied: numpy in /usr/local/lib/python3.10/dist-packages (from pgmpy) (1.26.4)\n",
            "Requirement already satisfied: scipy in /usr/local/lib/python3.10/dist-packages (from pgmpy) (1.13.1)\n",
            "Requirement already satisfied: scikit-learn in /usr/local/lib/python3.10/dist-packages (from pgmpy) (1.5.2)\n",
            "Requirement already satisfied: pandas in /usr/local/lib/python3.10/dist-packages (from pgmpy) (2.2.2)\n",
            "Requirement already satisfied: pyparsing in /usr/local/lib/python3.10/dist-packages (from pgmpy) (3.2.0)\n",
            "Requirement already satisfied: torch in /usr/local/lib/python3.10/dist-packages (from pgmpy) (2.5.1+cu121)\n",
            "Requirement already satisfied: statsmodels in /usr/local/lib/python3.10/dist-packages (from pgmpy) (0.14.4)\n",
            "Requirement already satisfied: tqdm in /usr/local/lib/python3.10/dist-packages (from pgmpy) (4.66.6)\n",
            "Requirement already satisfied: joblib in /usr/local/lib/python3.10/dist-packages (from pgmpy) (1.4.2)\n",
            "Requirement already satisfied: opt-einsum in /usr/local/lib/python3.10/dist-packages (from pgmpy) (3.4.0)\n",
            "Requirement already satisfied: xgboost in /usr/local/lib/python3.10/dist-packages (from pgmpy) (2.1.2)\n",
            "Requirement already satisfied: google-generativeai in /usr/local/lib/python3.10/dist-packages (from pgmpy) (0.8.3)\n",
            "Requirement already satisfied: contourpy>=1.0.1 in /usr/local/lib/python3.10/dist-packages (from matplotlib) (1.3.1)\n",
            "Requirement already satisfied: cycler>=0.10 in /usr/local/lib/python3.10/dist-packages (from matplotlib) (0.12.1)\n",
            "Requirement already satisfied: fonttools>=4.22.0 in /usr/local/lib/python3.10/dist-packages (from matplotlib) (4.54.1)\n",
            "Requirement already satisfied: kiwisolver>=1.0.1 in /usr/local/lib/python3.10/dist-packages (from matplotlib) (1.4.7)\n",
            "Requirement already satisfied: packaging>=20.0 in /usr/local/lib/python3.10/dist-packages (from matplotlib) (24.2)\n",
            "Requirement already satisfied: pillow>=6.2.0 in /usr/local/lib/python3.10/dist-packages (from matplotlib) (11.0.0)\n",
            "Requirement already satisfied: python-dateutil>=2.7 in /usr/local/lib/python3.10/dist-packages (from matplotlib) (2.8.2)\n",
            "Requirement already satisfied: six>=1.5 in /usr/local/lib/python3.10/dist-packages (from python-dateutil>=2.7->matplotlib) (1.16.0)\n",
            "Requirement already satisfied: google-ai-generativelanguage==0.6.10 in /usr/local/lib/python3.10/dist-packages (from google-generativeai->pgmpy) (0.6.10)\n",
            "Requirement already satisfied: google-api-core in /usr/local/lib/python3.10/dist-packages (from google-generativeai->pgmpy) (2.19.2)\n",
            "Requirement already satisfied: google-api-python-client in /usr/local/lib/python3.10/dist-packages (from google-generativeai->pgmpy) (2.151.0)\n",
            "Requirement already satisfied: google-auth>=2.15.0 in /usr/local/lib/python3.10/dist-packages (from google-generativeai->pgmpy) (2.27.0)\n",
            "Requirement already satisfied: protobuf in /usr/local/lib/python3.10/dist-packages (from google-generativeai->pgmpy) (4.25.5)\n",
            "Requirement already satisfied: pydantic in /usr/local/lib/python3.10/dist-packages (from google-generativeai->pgmpy) (2.9.2)\n",
            "Requirement already satisfied: typing-extensions in /usr/local/lib/python3.10/dist-packages (from google-generativeai->pgmpy) (4.12.2)\n",
            "Requirement already satisfied: proto-plus<2.0.0dev,>=1.22.3 in /usr/local/lib/python3.10/dist-packages (from google-ai-generativelanguage==0.6.10->google-generativeai->pgmpy) (1.25.0)\n",
            "Requirement already satisfied: pytz>=2020.1 in /usr/local/lib/python3.10/dist-packages (from pandas->pgmpy) (2024.2)\n",
            "Requirement already satisfied: tzdata>=2022.7 in /usr/local/lib/python3.10/dist-packages (from pandas->pgmpy) (2024.2)\n",
            "Requirement already satisfied: threadpoolctl>=3.1.0 in /usr/local/lib/python3.10/dist-packages (from scikit-learn->pgmpy) (3.5.0)\n",
            "Requirement already satisfied: patsy>=0.5.6 in /usr/local/lib/python3.10/dist-packages (from statsmodels->pgmpy) (1.0.1)\n",
            "Requirement already satisfied: filelock in /usr/local/lib/python3.10/dist-packages (from torch->pgmpy) (3.16.1)\n",
            "Requirement already satisfied: jinja2 in /usr/local/lib/python3.10/dist-packages (from torch->pgmpy) (3.1.4)\n",
            "Requirement already satisfied: fsspec in /usr/local/lib/python3.10/dist-packages (from torch->pgmpy) (2024.10.0)\n",
            "Requirement already satisfied: sympy==1.13.1 in /usr/local/lib/python3.10/dist-packages (from torch->pgmpy) (1.13.1)\n",
            "Requirement already satisfied: mpmath<1.4,>=1.1.0 in /usr/local/lib/python3.10/dist-packages (from sympy==1.13.1->torch->pgmpy) (1.3.0)\n",
            "Requirement already satisfied: nvidia-nccl-cu12 in /usr/local/lib/python3.10/dist-packages (from xgboost->pgmpy) (2.23.4)\n",
            "Requirement already satisfied: googleapis-common-protos<2.0.dev0,>=1.56.2 in /usr/local/lib/python3.10/dist-packages (from google-api-core->google-generativeai->pgmpy) (1.66.0)\n",
            "Requirement already satisfied: requests<3.0.0.dev0,>=2.18.0 in /usr/local/lib/python3.10/dist-packages (from google-api-core->google-generativeai->pgmpy) (2.32.3)\n",
            "Requirement already satisfied: cachetools<6.0,>=2.0.0 in /usr/local/lib/python3.10/dist-packages (from google-auth>=2.15.0->google-generativeai->pgmpy) (5.5.0)\n",
            "Requirement already satisfied: pyasn1-modules>=0.2.1 in /usr/local/lib/python3.10/dist-packages (from google-auth>=2.15.0->google-generativeai->pgmpy) (0.4.1)\n",
            "Requirement already satisfied: rsa<5,>=3.1.4 in /usr/local/lib/python3.10/dist-packages (from google-auth>=2.15.0->google-generativeai->pgmpy) (4.9)\n",
            "Requirement already satisfied: httplib2<1.dev0,>=0.19.0 in /usr/local/lib/python3.10/dist-packages (from google-api-python-client->google-generativeai->pgmpy) (0.22.0)\n",
            "Requirement already satisfied: google-auth-httplib2<1.0.0,>=0.2.0 in /usr/local/lib/python3.10/dist-packages (from google-api-python-client->google-generativeai->pgmpy) (0.2.0)\n",
            "Requirement already satisfied: uritemplate<5,>=3.0.1 in /usr/local/lib/python3.10/dist-packages (from google-api-python-client->google-generativeai->pgmpy) (4.1.1)\n",
            "Requirement already satisfied: MarkupSafe>=2.0 in /usr/local/lib/python3.10/dist-packages (from jinja2->torch->pgmpy) (3.0.2)\n",
            "Requirement already satisfied: annotated-types>=0.6.0 in /usr/local/lib/python3.10/dist-packages (from pydantic->google-generativeai->pgmpy) (0.7.0)\n",
            "Requirement already satisfied: pydantic-core==2.23.4 in /usr/local/lib/python3.10/dist-packages (from pydantic->google-generativeai->pgmpy) (2.23.4)\n",
            "Requirement already satisfied: grpcio<2.0dev,>=1.33.2 in /usr/local/lib/python3.10/dist-packages (from google-api-core[grpc]!=2.0.*,!=2.1.*,!=2.10.*,!=2.2.*,!=2.3.*,!=2.4.*,!=2.5.*,!=2.6.*,!=2.7.*,!=2.8.*,!=2.9.*,<3.0.0dev,>=1.34.1->google-ai-generativelanguage==0.6.10->google-generativeai->pgmpy) (1.67.1)\n",
            "Requirement already satisfied: grpcio-status<2.0.dev0,>=1.33.2 in /usr/local/lib/python3.10/dist-packages (from google-api-core[grpc]!=2.0.*,!=2.1.*,!=2.10.*,!=2.2.*,!=2.3.*,!=2.4.*,!=2.5.*,!=2.6.*,!=2.7.*,!=2.8.*,!=2.9.*,<3.0.0dev,>=1.34.1->google-ai-generativelanguage==0.6.10->google-generativeai->pgmpy) (1.62.3)\n",
            "Requirement already satisfied: pyasn1<0.7.0,>=0.4.6 in /usr/local/lib/python3.10/dist-packages (from pyasn1-modules>=0.2.1->google-auth>=2.15.0->google-generativeai->pgmpy) (0.6.1)\n",
            "Requirement already satisfied: charset-normalizer<4,>=2 in /usr/local/lib/python3.10/dist-packages (from requests<3.0.0.dev0,>=2.18.0->google-api-core->google-generativeai->pgmpy) (3.4.0)\n",
            "Requirement already satisfied: idna<4,>=2.5 in /usr/local/lib/python3.10/dist-packages (from requests<3.0.0.dev0,>=2.18.0->google-api-core->google-generativeai->pgmpy) (3.10)\n",
            "Requirement already satisfied: urllib3<3,>=1.21.1 in /usr/local/lib/python3.10/dist-packages (from requests<3.0.0.dev0,>=2.18.0->google-api-core->google-generativeai->pgmpy) (2.2.3)\n",
            "Requirement already satisfied: certifi>=2017.4.17 in /usr/local/lib/python3.10/dist-packages (from requests<3.0.0.dev0,>=2.18.0->google-api-core->google-generativeai->pgmpy) (2024.8.30)\n"
          ]
        }
      ]
    },
    {
      "cell_type": "markdown",
      "source": [
        "# **Exercise 2: Building a Simple DBN**"
      ],
      "metadata": {
        "id": "Wx51C_9BT7uT"
      }
    },
    {
      "cell_type": "code",
      "source": [
        "from pgmpy.models import DynamicBayesianNetwork\n",
        "from pgmpy.factors.discrete import TabularCPD\n",
        "\n",
        "dbn = DynamicBayesianNetwork()\n",
        "\n",
        "dbn.add_edges_from([(('Rain', 0), ('Sprinkler', 0)),\n",
        "                     (('Sprinkler', 0), ('WetGrass', 0)),\n",
        "                     (('Rain', 1), ('WetGrass', 1)),\n",
        "                     (('Sprinkler', 1), ('WetGrass', 1))])\n",
        "\n",
        "from pgmpy.inference import DBNInference\n",
        "\n",
        "cpd_rain = TabularCPD(('Rain', 0), 2, [[0.8], [0.2]])\n",
        "cpd_sprinkler = TabularCPD(('Sprinkler', 0), 2, [[0.9, 0.5], [0.1, 0.5]],\n",
        "                            evidence=[('Rain', 0)], evidence_card=[2])\n",
        "cpd_wetgrass = TabularCPD(('WetGrass', 0), 2, [[1, 1, 0, 0], [0, 0, 1, 1]],\n",
        "                           evidence=[('Sprinkler', 0), ('Rain', 0)], evidence_card=[2, 2])\n",
        "\n",
        "\n",
        "dbn.add_cpds(cpd_rain, cpd_sprinkler, cpd_wetgrass)"
      ],
      "metadata": {
        "id": "lj_TuC_sT7za"
      },
      "execution_count": 3,
      "outputs": []
    },
    {
      "cell_type": "markdown",
      "source": [
        "# **Exercise 3: Performing Inference**"
      ],
      "metadata": {
        "id": "GvkR97Y9WJPT"
      }
    },
    {
      "cell_type": "code",
      "source": [
        "inference = DBNInference(dbn)\n",
        "\n",
        "result = inference.query(variables=[('WetGrass', 0)], evidence={('Rain', 0): 1, ('Sprinkler', 0): 1})\n",
        "print(result)"
      ],
      "metadata": {
        "colab": {
          "base_uri": "https://localhost:8080/"
        },
        "id": "cRDI7vRzWJXq",
        "outputId": "5fd6851b-3de1-44e9-aedc-15b2dbb38a12"
      },
      "execution_count": 4,
      "outputs": [
        {
          "output_type": "stream",
          "name": "stdout",
          "text": [
            "{('WetGrass', 0): <DiscreteFactor representing phi(('WetGrass', 0):2) at 0x7cf50bc395d0>}\n"
          ]
        }
      ]
    },
    {
      "cell_type": "markdown",
      "source": [
        "# **Exercise 4: Visualizing the DBN**"
      ],
      "metadata": {
        "id": "C5BKuDlFWREg"
      }
    },
    {
      "cell_type": "code",
      "source": [
        "import matplotlib.pyplot as plt\n",
        "import networkx as nx\n",
        "\n",
        "G = nx.DiGraph()\n",
        "\n",
        "G.add_edges_from([('Rain_0', 'Sprinkler_0'),\n",
        "                  ('Sprinkler_0', 'WetGrass_0'),\n",
        "                  ('Rain_1', 'WetGrass_1'),\n",
        "                  ('Sprinkler_1', 'WetGrass_1')])\n",
        "\n",
        "\n",
        "pos = nx.spring_layout(G)\n",
        "nx.draw(G, pos, with_labels=True)\n",
        "plt.title(\"Dynamic Bayesian Network Structure\")\n",
        "plt.show()"
      ],
      "metadata": {
        "colab": {
          "base_uri": "https://localhost:8080/",
          "height": 539
        },
        "id": "fVhzx_MGWRKg",
        "outputId": "f2db0c33-997e-4a25-caa8-bb85854fa228"
      },
      "execution_count": 5,
      "outputs": [
        {
          "output_type": "display_data",
          "data": {
            "text/plain": [
              "<Figure size 640x480 with 1 Axes>"
            ],
            "image/png": "[encoded data removed]"
          },
          "metadata": {}
        }
      ]
    },
    {
      "cell_type": "markdown",
      "source": [
        "# **Exercise 5: Extending the DBN**"
      ],
      "metadata": {
        "id": "qAN5kDqcWhcE"
      }
    },
    {
      "cell_type": "code",
      "source": [
        "from pgmpy.factors.discrete import TabularCPD\n",
        "\n",
        "cpd_rain_0 = TabularCPD(('Rain', 0), 2, [[0.2], [0.8]], state_names={('Rain', 0): ['yes', 'no']})\n",
        "cpd_rain_1 = TabularCPD(('Rain', 1), 2, [[0.7], [0.3]], state_names={('Rain', 1): ['yes', 'no']})\n",
        "\n",
        "cpd_sprinkler_0 = TabularCPD(('Sprinkler', 0), 2, [[0.6, 0.4], [0.9, 0.1]],\n",
        "                          evidence=[('Rain', 0)], evidence_card=[2],\n",
        "                          state_names={('Sprinkler', 0): ['on', 'off'], ('Rain', 0): ['yes', 'no']})\n",
        "cpd_sprinkler_1 = TabularCPD(('Sprinkler', 1), 2, [[0.3, 0.7], [0.8, 0.2]],\n",
        "                          evidence=[('Rain', 1)], evidence_card=[2],\n",
        "                          state_names={('Sprinkler', 1): ['on', 'off'], ('Rain', 1): ['yes', 'no']})\n",
        "\n",
        "cpd_wetgrass_0 = TabularCPD(('WetGrass', 0), 2, [[0.95, 0.8, 0.9, 0.0],\n",
        "                                            [0.05, 0.2, 0.1, 1.0]],\n",
        "                           evidence=[('Sprinkler', 0), ('Rain', 0)],\n",
        "                           evidence_card=[2, 2],\n",
        "                           state_names={('WetGrass', 0): ['yes', 'no'],\n",
        "                                       ('Sprinkler', 0): ['on', 'off'],\n",
        "                                       ('Rain', 0): ['yes', 'no']})\n",
        "\n",
        "cpd_wetgrass_1 = TabularCPD(('WetGrass', 1), 2, [[0.99, 0.9, 0.9, 0.0],\n",
        "                                            [0.01, 0.1, 0.1, 1.0]],\n",
        "                           evidence=[('Sprinkler', 1), ('Rain', 1)],\n",
        "                           evidence_card=[2, 2],\n",
        "                           state_names={('WetGrass', 1): ['yes', 'no'],\n",
        "                                       ('Sprinkler', 1): ['on', 'off'],\n",
        "                                       ('Rain', 1): ['yes', 'no']})\n",
        "\n",
        "\n",
        "\n",
        "dbn.add_cpds(cpd_rain_0, cpd_rain_1, cpd_sprinkler_0, cpd_sprinkler_1, cpd_wetgrass_0, cpd_wetgrass_1)"
      ],
      "metadata": {
        "id": "5FRxWOXTWhh3"
      },
      "execution_count": 6,
      "outputs": []
    }
  ]
}