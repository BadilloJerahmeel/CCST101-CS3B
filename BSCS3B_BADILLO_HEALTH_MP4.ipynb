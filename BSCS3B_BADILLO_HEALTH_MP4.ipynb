{
  "nbformat": 4,
  "nbformat_minor": 0,
  "metadata": {
    "colab": {
      "provenance": []
    },
    "kernelspec": {
      "name": "python3",
      "display_name": "Python 3"
    },
    "language_info": {
      "name": "python"
    }
  },
  "cells": [
    {
      "cell_type": "markdown",
      "source": [
        "# **Machine Problem: Bayesian Network for Healthcare Diagnosis**"
      ],
      "metadata": {
        "id": "_VJKRAH4nRs-"
      }
    },
    {
      "cell_type": "markdown",
      "source": [
        "# **Exercise 1: Setting Up the Environment**"
      ],
      "metadata": {
        "id": "SnTUh84snf8j"
      }
    },
    {
      "cell_type": "markdown",
      "source": [
        "**1. Install Libraries:**"
      ],
      "metadata": {
        "id": "nlE8xtKKngAS"
      }
    },
    {
      "cell_type": "code",
      "source": [
        "!pip install --upgrade pgmpy networkx"
      ],
      "metadata": {
        "colab": {
          "base_uri": "https://localhost:8080/"
        },
        "id": "vOfY_I-gnn9r",
        "outputId": "ac975309-777c-4f77-9b76-4b76569e3831"
      },
      "execution_count": 1,
      "outputs": [
        {
          "output_type": "stream",
          "name": "stdout",
          "text": [
            "Collecting pgmpy\n",
            "  Downloading pgmpy-0.1.26-py3-none-any.whl.metadata (9.1 kB)\n",
            "Requirement already satisfied: networkx in /usr/local/lib/python3.10/dist-packages (3.4.1)\n",
            "Requirement already satisfied: numpy in /usr/local/lib/python3.10/dist-packages (from pgmpy) (1.26.4)\n",
            "Requirement already satisfied: scipy in /usr/local/lib/python3.10/dist-packages (from pgmpy) (1.13.1)\n",
            "Requirement already satisfied: scikit-learn in /usr/local/lib/python3.10/dist-packages (from pgmpy) (1.5.2)\n",
            "Requirement already satisfied: pandas in /usr/local/lib/python3.10/dist-packages (from pgmpy) (2.2.2)\n",
            "Requirement already satisfied: pyparsing in /usr/local/lib/python3.10/dist-packages (from pgmpy) (3.2.0)\n",
            "Requirement already satisfied: torch in /usr/local/lib/python3.10/dist-packages (from pgmpy) (2.4.1+cu121)\n",
            "Requirement already satisfied: statsmodels in /usr/local/lib/python3.10/dist-packages (from pgmpy) (0.14.4)\n",
            "Requirement already satisfied: tqdm in /usr/local/lib/python3.10/dist-packages (from pgmpy) (4.66.5)\n",
            "Requirement already satisfied: joblib in /usr/local/lib/python3.10/dist-packages (from pgmpy) (1.4.2)\n",
            "Requirement already satisfied: opt-einsum in /usr/local/lib/python3.10/dist-packages (from pgmpy) (3.4.0)\n",
            "Requirement already satisfied: xgboost in /usr/local/lib/python3.10/dist-packages (from pgmpy) (2.1.1)\n",
            "Requirement already satisfied: google-generativeai in /usr/local/lib/python3.10/dist-packages (from pgmpy) (0.8.3)\n",
            "Requirement already satisfied: google-ai-generativelanguage==0.6.10 in /usr/local/lib/python3.10/dist-packages (from google-generativeai->pgmpy) (0.6.10)\n",
            "Requirement already satisfied: google-api-core in /usr/local/lib/python3.10/dist-packages (from google-generativeai->pgmpy) (2.19.2)\n",
            "Requirement already satisfied: google-api-python-client in /usr/local/lib/python3.10/dist-packages (from google-generativeai->pgmpy) (2.137.0)\n",
            "Requirement already satisfied: google-auth>=2.15.0 in /usr/local/lib/python3.10/dist-packages (from google-generativeai->pgmpy) (2.27.0)\n",
            "Requirement already satisfied: protobuf in /usr/local/lib/python3.10/dist-packages (from google-generativeai->pgmpy) (3.20.3)\n",
            "Requirement already satisfied: pydantic in /usr/local/lib/python3.10/dist-packages (from google-generativeai->pgmpy) (2.9.2)\n",
            "Requirement already satisfied: typing-extensions in /usr/local/lib/python3.10/dist-packages (from google-generativeai->pgmpy) (4.12.2)\n",
            "Requirement already satisfied: proto-plus<2.0.0dev,>=1.22.3 in /usr/local/lib/python3.10/dist-packages (from google-ai-generativelanguage==0.6.10->google-generativeai->pgmpy) (1.24.0)\n",
            "Requirement already satisfied: python-dateutil>=2.8.2 in /usr/local/lib/python3.10/dist-packages (from pandas->pgmpy) (2.8.2)\n",
            "Requirement already satisfied: pytz>=2020.1 in /usr/local/lib/python3.10/dist-packages (from pandas->pgmpy) (2024.2)\n",
            "Requirement already satisfied: tzdata>=2022.7 in /usr/local/lib/python3.10/dist-packages (from pandas->pgmpy) (2024.2)\n",
            "Requirement already satisfied: threadpoolctl>=3.1.0 in /usr/local/lib/python3.10/dist-packages (from scikit-learn->pgmpy) (3.5.0)\n",
            "Requirement already satisfied: patsy>=0.5.6 in /usr/local/lib/python3.10/dist-packages (from statsmodels->pgmpy) (0.5.6)\n",
            "Requirement already satisfied: packaging>=21.3 in /usr/local/lib/python3.10/dist-packages (from statsmodels->pgmpy) (24.1)\n",
            "Requirement already satisfied: filelock in /usr/local/lib/python3.10/dist-packages (from torch->pgmpy) (3.16.1)\n",
            "Requirement already satisfied: sympy in /usr/local/lib/python3.10/dist-packages (from torch->pgmpy) (1.13.3)\n",
            "Requirement already satisfied: jinja2 in /usr/local/lib/python3.10/dist-packages (from torch->pgmpy) (3.1.4)\n",
            "Requirement already satisfied: fsspec in /usr/local/lib/python3.10/dist-packages (from torch->pgmpy) (2024.6.1)\n",
            "Requirement already satisfied: nvidia-nccl-cu12 in /usr/local/lib/python3.10/dist-packages (from xgboost->pgmpy) (2.23.4)\n",
            "Requirement already satisfied: googleapis-common-protos<2.0.dev0,>=1.56.2 in /usr/local/lib/python3.10/dist-packages (from google-api-core->google-generativeai->pgmpy) (1.65.0)\n",
            "Requirement already satisfied: requests<3.0.0.dev0,>=2.18.0 in /usr/local/lib/python3.10/dist-packages (from google-api-core->google-generativeai->pgmpy) (2.32.3)\n",
            "Requirement already satisfied: cachetools<6.0,>=2.0.0 in /usr/local/lib/python3.10/dist-packages (from google-auth>=2.15.0->google-generativeai->pgmpy) (5.5.0)\n",
            "Requirement already satisfied: pyasn1-modules>=0.2.1 in /usr/local/lib/python3.10/dist-packages (from google-auth>=2.15.0->google-generativeai->pgmpy) (0.4.1)\n",
            "Requirement already satisfied: rsa<5,>=3.1.4 in /usr/local/lib/python3.10/dist-packages (from google-auth>=2.15.0->google-generativeai->pgmpy) (4.9)\n",
            "Requirement already satisfied: six in /usr/local/lib/python3.10/dist-packages (from patsy>=0.5.6->statsmodels->pgmpy) (1.16.0)\n",
            "Requirement already satisfied: httplib2<1.dev0,>=0.19.0 in /usr/local/lib/python3.10/dist-packages (from google-api-python-client->google-generativeai->pgmpy) (0.22.0)\n",
            "Requirement already satisfied: google-auth-httplib2<1.0.0,>=0.2.0 in /usr/local/lib/python3.10/dist-packages (from google-api-python-client->google-generativeai->pgmpy) (0.2.0)\n",
            "Requirement already satisfied: uritemplate<5,>=3.0.1 in /usr/local/lib/python3.10/dist-packages (from google-api-python-client->google-generativeai->pgmpy) (4.1.1)\n",
            "Requirement already satisfied: MarkupSafe>=2.0 in /usr/local/lib/python3.10/dist-packages (from jinja2->torch->pgmpy) (3.0.1)\n",
            "Requirement already satisfied: annotated-types>=0.6.0 in /usr/local/lib/python3.10/dist-packages (from pydantic->google-generativeai->pgmpy) (0.7.0)\n",
            "Requirement already satisfied: pydantic-core==2.23.4 in /usr/local/lib/python3.10/dist-packages (from pydantic->google-generativeai->pgmpy) (2.23.4)\n",
            "Requirement already satisfied: mpmath<1.4,>=1.1.0 in /usr/local/lib/python3.10/dist-packages (from sympy->torch->pgmpy) (1.3.0)\n",
            "Requirement already satisfied: grpcio<2.0dev,>=1.33.2 in /usr/local/lib/python3.10/dist-packages (from google-api-core[grpc]!=2.0.*,!=2.1.*,!=2.10.*,!=2.2.*,!=2.3.*,!=2.4.*,!=2.5.*,!=2.6.*,!=2.7.*,!=2.8.*,!=2.9.*,<3.0.0dev,>=1.34.1->google-ai-generativelanguage==0.6.10->google-generativeai->pgmpy) (1.64.1)\n",
            "Requirement already satisfied: grpcio-status<2.0.dev0,>=1.33.2 in /usr/local/lib/python3.10/dist-packages (from google-api-core[grpc]!=2.0.*,!=2.1.*,!=2.10.*,!=2.2.*,!=2.3.*,!=2.4.*,!=2.5.*,!=2.6.*,!=2.7.*,!=2.8.*,!=2.9.*,<3.0.0dev,>=1.34.1->google-ai-generativelanguage==0.6.10->google-generativeai->pgmpy) (1.48.2)\n",
            "Requirement already satisfied: pyasn1<0.7.0,>=0.4.6 in /usr/local/lib/python3.10/dist-packages (from pyasn1-modules>=0.2.1->google-auth>=2.15.0->google-generativeai->pgmpy) (0.6.1)\n",
            "Requirement already satisfied: charset-normalizer<4,>=2 in /usr/local/lib/python3.10/dist-packages (from requests<3.0.0.dev0,>=2.18.0->google-api-core->google-generativeai->pgmpy) (3.4.0)\n",
            "Requirement already satisfied: idna<4,>=2.5 in /usr/local/lib/python3.10/dist-packages (from requests<3.0.0.dev0,>=2.18.0->google-api-core->google-generativeai->pgmpy) (3.10)\n",
            "Requirement already satisfied: urllib3<3,>=1.21.1 in /usr/local/lib/python3.10/dist-packages (from requests<3.0.0.dev0,>=2.18.0->google-api-core->google-generativeai->pgmpy) (2.2.3)\n",
            "Requirement already satisfied: certifi>=2017.4.17 in /usr/local/lib/python3.10/dist-packages (from requests<3.0.0.dev0,>=2.18.0->google-api-core->google-generativeai->pgmpy) (2024.8.30)\n",
            "Downloading pgmpy-0.1.26-py3-none-any.whl (2.0 MB)\n",
            "\u001b[2K   \u001b[90m━━━━━━━━━━━━━━━━━━━━━━━━━━━━━━━━━━━━━━━━\u001b[0m \u001b[32m2.0/2.0 MB\u001b[0m \u001b[31m29.6 MB/s\u001b[0m eta \u001b[36m0:00:00\u001b[0m\n",
            "\u001b[?25hInstalling collected packages: pgmpy\n",
            "Successfully installed pgmpy-0.1.26\n"
          ]
        }
      ]
    },
    {
      "cell_type": "markdown",
      "source": [
        "**2. Import Libraries:**"
      ],
      "metadata": {
        "id": "09ptaqNOn6y4"
      }
    },
    {
      "cell_type": "code",
      "source": [
        "import numpy as np\n",
        "import pandas as pd\n",
        "from pgmpy.models import BayesianModel\n",
        "from pgmpy.inference import VariableElimination\n",
        "from pgmpy.inference import BeliefPropagation\n",
        "from pgmpy.factors.discrete import TabularCPD"
      ],
      "metadata": {
        "id": "DfrRpWXEn66m"
      },
      "execution_count": 2,
      "outputs": []
    },
    {
      "cell_type": "markdown",
      "source": [
        "**Define the Variables and Define the Relationships:**"
      ],
      "metadata": {
        "id": "8GQIYh7pplFg"
      }
    },
    {
      "cell_type": "code",
      "source": [
        "model = BayesianModel([\n",
        "    ('Age', 'Heart Disease'),\n",
        "    ('Smoking', 'Heart Disease'),\n",
        "    ('Exercise', 'Heart Disease'),\n",
        "    ('Cholesterol', 'Heart Disease'),\n",
        "    ('Blood Pressure', 'Heart Disease'),\n",
        "    ('Heart Disease', 'Chest Pain'),\n",
        "    ('Heart Disease', 'ECG Result')\n",
        "])"
      ],
      "metadata": {
        "colab": {
          "base_uri": "https://localhost:8080/"
        },
        "id": "TeQcuhZ0plO0",
        "outputId": "d674ff9e-80c0-4a4b-afbf-5de085863aa4"
      },
      "execution_count": 3,
      "outputs": [
        {
          "output_type": "stream",
          "name": "stderr",
          "text": [
            "WARNING:pgmpy:BayesianModel has been renamed to BayesianNetwork. Please use BayesianNetwork class, BayesianModel will be removed in future.\n"
          ]
        }
      ]
    },
    {
      "cell_type": "markdown",
      "source": [
        "\n",
        "# **Exercise 3: Define Conditional Probability Tables (CPTs)**\n",
        "\n",
        "* **1. Create CPTs Using pgmpy:**"
      ],
      "metadata": {
        "id": "Kr6ugXrlp2Eo"
      }
    },
    {
      "cell_type": "code",
      "source": [
        "cpd_age = TabularCPD(variable='Age', variable_card=3,\n",
        "                    values=[[0.3], [0.5], [0.2]])\n",
        "\n",
        "cpd_smoking = TabularCPD(variable='Smoking', variable_card=2,\n",
        "                         values=[[0.7], [0.3]])\n",
        "\n",
        "cpd_exercise = TabularCPD(variable='Exercise', variable_card=2,\n",
        "                          values=[[0.6], [0.4]])\n",
        "\n",
        "cpd_cholesterol = TabularCPD(variable='Cholesterol', variable_card=2,\n",
        "                             values=[[0.5], [0.5]])\n",
        "\n",
        "cpd_blood_pressure = TabularCPD(variable='Blood Pressure', variable_card=2,\n",
        "                                 values=[[0.65], [0.35]])\n",
        "\n",
        "values = np.random.rand(2, 48)\n",
        "values = values / np.sum(values, axis=0)\n",
        "\n",
        "cpd_heart_disease = TabularCPD(variable='Heart Disease', variable_card=2,\n",
        "                               values=values,\n",
        "                               evidence=['Age', 'Smoking', 'Exercise', 'Cholesterol', 'Blood Pressure'],\n",
        "                               evidence_card=[3, 2, 2, 2, 2])\n",
        "\n",
        "cpd_chest_pain = TabularCPD(variable='Chest Pain', variable_card=2,\n",
        "                            values=[[0.9, 0.3], [0.1, 0.7]],\n",
        "                            evidence=['Heart Disease'],\n",
        "                            evidence_card=[2])\n",
        "\n",
        "cpd_ecg_result = TabularCPD(variable='ECG Result', variable_card=2,\n",
        "                            values=[[0.85, 0.4], [0.15, 0.6]],\n",
        "                            evidence=['Heart Disease'],\n",
        "                            evidence_card=[2])\n",
        "\n",
        "\n",
        "model.add_cpds(cpd_age, cpd_smoking, cpd_exercise,\n",
        "               cpd_cholesterol, cpd_blood_pressure,\n",
        "               cpd_heart_disease, cpd_chest_pain,\n",
        "               cpd_ecg_result)\n",
        "\n",
        "assert model.check_model()\n",
        "\n",
        "print(\"Bayesian Network structure defined successfully!\")\n"
      ],
      "metadata": {
        "colab": {
          "base_uri": "https://localhost:8080/"
        },
        "id": "fXb5QUPwp2Of",
        "outputId": "1b7e92f5-76ee-4d10-a449-778bd45fbc13"
      },
      "execution_count": 7,
      "outputs": [
        {
          "output_type": "stream",
          "name": "stderr",
          "text": [
            "WARNING:pgmpy:Replacing existing CPD for Age\n",
            "WARNING:pgmpy:Replacing existing CPD for Smoking\n",
            "WARNING:pgmpy:Replacing existing CPD for Exercise\n",
            "WARNING:pgmpy:Replacing existing CPD for Cholesterol\n",
            "WARNING:pgmpy:Replacing existing CPD for Blood Pressure\n",
            "WARNING:pgmpy:Replacing existing CPD for Heart Disease\n",
            "WARNING:pgmpy:Replacing existing CPD for Chest Pain\n",
            "WARNING:pgmpy:Replacing existing CPD for ECG Result\n"
          ]
        },
        {
          "output_type": "stream",
          "name": "stdout",
          "text": [
            "Bayesian Network structure defined successfully!\n"
          ]
        }
      ]
    },
    {
      "cell_type": "markdown",
      "source": [
        "# **Exercise 4: Inference in the Bayesian Network**"
      ],
      "metadata": {
        "id": "S-uVePButlOr"
      }
    },
    {
      "cell_type": "markdown",
      "source": [
        "**1. Perform Probabilistic Inference:**"
      ],
      "metadata": {
        "id": "kxoiIYZXtoX7"
      }
    },
    {
      "cell_type": "code",
      "source": [
        "inference = VariableElimination(model)\n",
        "\n",
        "query_heart_disease = inference.query(variables=['Heart Disease'],\n",
        "                                      evidence={'Age': 1, 'Smoking': 1,\n",
        "                                                'Cholesterol': 1, 'Blood Pressure': 1})\n",
        "\n",
        "print(\"Probability of Heart Disease given Middle-aged, Smoker, High Cholesterol and High Blood Pressure:\")\n",
        "\n",
        "print(query_heart_disease)\n",
        "\n",
        "query_ecg_result = inference.query(variables=['ECG Result'],\n",
        "                                    evidence={'Chest Pain': 1})\n",
        "\n",
        "print(\"\\nProbability of an Abnormal ECG Result given Chest Pain:\")\n",
        "print(query_ecg_result)"
      ],
      "metadata": {
        "colab": {
          "base_uri": "https://localhost:8080/"
        },
        "id": "ndGMct_KtlUr",
        "outputId": "a1ec5430-a1f1-4998-d486-5703f1f6f812"
      },
      "execution_count": 10,
      "outputs": [
        {
          "output_type": "stream",
          "name": "stderr",
          "text": [
            "WARNING:pgmpy:BayesianModel has been renamed to BayesianNetwork. Please use BayesianNetwork class, BayesianModel will be removed in future.\n",
            "WARNING:pgmpy:BayesianModel has been renamed to BayesianNetwork. Please use BayesianNetwork class, BayesianModel will be removed in future.\n",
            "WARNING:pgmpy:BayesianModel has been renamed to BayesianNetwork. Please use BayesianNetwork class, BayesianModel will be removed in future.\n",
            "WARNING:pgmpy:BayesianModel has been renamed to BayesianNetwork. Please use BayesianNetwork class, BayesianModel will be removed in future.\n"
          ]
        },
        {
          "output_type": "stream",
          "name": "stdout",
          "text": [
            "Probability of Heart Disease given Middle-aged, Smoker, High Cholesterol and High Blood Pressure:\n",
            "+------------------+----------------------+\n",
            "| Heart Disease    |   phi(Heart Disease) |\n",
            "+==================+======================+\n",
            "| Heart Disease(0) |               0.1146 |\n",
            "+------------------+----------------------+\n",
            "| Heart Disease(1) |               0.8854 |\n",
            "+------------------+----------------------+\n",
            "\n",
            "Probability of an Abnormal ECG Result given Chest Pain:\n",
            "+---------------+-------------------+\n",
            "| ECG Result    |   phi(ECG Result) |\n",
            "+===============+===================+\n",
            "| ECG Result(0) |            0.4468 |\n",
            "+---------------+-------------------+\n",
            "| ECG Result(1) |            0.5532 |\n",
            "+---------------+-------------------+\n"
          ]
        }
      ]
    },
    {
      "cell_type": "markdown",
      "source": [
        "**2. Posterior Probability Analysis:**"
      ],
      "metadata": {
        "id": "E9N8RpT2voYd"
      }
    },
    {
      "cell_type": "code",
      "source": [
        "inference = VariableElimination(model)\n",
        "\n",
        "query_heart_disease_no_exercise = inference.query(variables=['Heart Disease'],\n",
        "                                                  evidence={'Exercise': 1})\n",
        "\n",
        "print(\"Probability distribution of Heart Disease in patients who do not exercise:\")\n",
        "print(query_heart_disease_no_exercise)"
      ],
      "metadata": {
        "colab": {
          "base_uri": "https://localhost:8080/"
        },
        "id": "1XMf-voZv5OQ",
        "outputId": "abeb1ae9-0b9f-4fe5-be8c-07751b7952fd"
      },
      "execution_count": 13,
      "outputs": [
        {
          "output_type": "stream",
          "name": "stderr",
          "text": [
            "WARNING:pgmpy:BayesianModel has been renamed to BayesianNetwork. Please use BayesianNetwork class, BayesianModel will be removed in future.\n",
            "WARNING:pgmpy:BayesianModel has been renamed to BayesianNetwork. Please use BayesianNetwork class, BayesianModel will be removed in future.\n"
          ]
        },
        {
          "output_type": "stream",
          "name": "stdout",
          "text": [
            "Probability distribution of Heart Disease in patients who do not exercise:\n",
            "+------------------+----------------------+\n",
            "| Heart Disease    |   phi(Heart Disease) |\n",
            "+==================+======================+\n",
            "| Heart Disease(0) |               0.4701 |\n",
            "+------------------+----------------------+\n",
            "| Heart Disease(1) |               0.5299 |\n",
            "+------------------+----------------------+\n"
          ]
        }
      ]
    },
    {
      "cell_type": "markdown",
      "source": [
        "# **Exercise 5: Parameter Learning from Simulated Data**"
      ],
      "metadata": {
        "id": "LmZY-xsfwBBM"
      }
    },
    {
      "cell_type": "markdown",
      "source": [
        "**1. Simulate a Healthcare Dataset:**"
      ],
      "metadata": {
        "id": "ILtsINBjwBH_"
      }
    },
    {
      "cell_type": "code",
      "source": [
        "np.random.seed(42)\n",
        "\n",
        "data = pd.DataFrame({\n",
        "    'Age': np.random.choice([0, 1, 2], size=1000),\n",
        "    'Smoking': np.nan,\n",
        "    'Exercise': np.nan,\n",
        "    'Cholesterol': np.nan,\n",
        "    'Blood Pressure': np.nan,\n",
        "    'Heart Disease': np.nan,\n",
        "    'Chest Pain': np.nan,\n",
        "    'ECG Result': np.nan\n",
        "})\n",
        "\n",
        "\n",
        "data['Smoking'] = np.where(data['Age'] == 2,\n",
        "                           np.random.choice([0, 1], size=data.shape[0], p=[0.4, 0.6]),\n",
        "                           np.random.choice([0, 1], size=data.shape[0], p=[0.7, 0.3])\n",
        "                          )\n",
        "\n",
        "\n",
        "data['Exercise'] = np.where(data['Age'] == 2,\n",
        "                            np.random.choice([0, 1], size=data.shape[0], p=[0.4, 0.6]),\n",
        "                            np.random.choice([0, 1], size=data.shape[0], p=[0.6, 0.4])\n",
        "                           )\n",
        "\n",
        "\n",
        "data['Cholesterol'] = np.where((data['Age'] == 2) | (data['Smoking'] == 1),\n",
        "                                np.random.choice([0, 1], size=data.shape[0], p=[0.3, 0.7]),\n",
        "                                np.random.choice([0, 1], size=data.shape[0], p=[0.6, 0.4])\n",
        "                               )\n",
        "\n",
        "data['Blood Pressure'] = np.where(data['Cholesterol'] == 1,\n",
        "                                   np.random.choice([0, 1], size=data.shape[0], p=[0.4, 0.6]),\n",
        "                                   np.random.choice([0, 1], size=data.shape[0], p=[0.65, 0.35])\n",
        "                                  )\n",
        "\n",
        "\n",
        "for i in range(len(data)):\n",
        "    prob_heart_disease = [0.9, 0.1]\n",
        "\n",
        "    if data['Age'][i] == 2:\n",
        "        prob_heart_disease = [prob_heart_disease[0] - 0.2 * (data['Smoking'][i] + data['Cholesterol'][i] + data['Blood Pressure'][i]),\n",
        "                              prob_heart_disease[1] + 0.2 * (data['Smoking'][i] + data['Cholesterol'][i] + data['Blood Pressure'][i])]\n",
        "    elif data['Age'][i] == 1:\n",
        "        prob_heart_disease = [prob_heart_disease[0] - 0.15 * (data['Smoking'][i] + data['Cholesterol'][i] + data['Blood Pressure'][i]),\n",
        "                              prob_heart_disease[1] + 0.15 * (data['Smoking'][i] + data['Cholesterol'][i] + data['Blood Pressure'][i])]\n",
        "\n",
        "\n",
        "    prob_heart_disease = [x / sum(prob_heart_disease) for x in prob_heart_disease]\n",
        "\n",
        "    data.at[i, 'Heart Disease'] = np.random.choice([0, 1], p=prob_heart_disease)\n",
        "\n",
        "\n",
        "data['Chest Pain'] = np.where(data['Heart Disease'] == 1,\n",
        "                               np.random.choice([0, 1], size=data.shape[0], p=[0.3, 0.7]),\n",
        "                               np.random.choice([0, 1], size=data.shape[0], p=[0.9, 0.1])\n",
        "                              )\n",
        "\n",
        "data['ECG Result'] = np.where(data['Heart Disease'] == 1,\n",
        "                               np.random.choice([0, 1], size=data.shape[0], p=[0.4, 0.6]),\n",
        "                               np.random.choice([0, 1], size=data.shape[0], p=[0.85, 0.15])\n",
        "                              )\n",
        "\n",
        "\n",
        "print(data.head())"
      ],
      "metadata": {
        "colab": {
          "base_uri": "https://localhost:8080/"
        },
        "id": "1qyvj9DDwBYr",
        "outputId": "444a82c3-78a2-4375-8531-e181502a6caf"
      },
      "execution_count": 18,
      "outputs": [
        {
          "output_type": "stream",
          "name": "stdout",
          "text": [
            "   Age  Smoking  Exercise  Cholesterol  Blood Pressure  Heart Disease  \\\n",
            "0    2        0         1            1               0            0.0   \n",
            "1    0        1         0            0               0            0.0   \n",
            "2    2        1         1            1               0            0.0   \n",
            "3    2        1         0            1               1            1.0   \n",
            "4    0        0         0            0               1            0.0   \n",
            "\n",
            "   Chest Pain  ECG Result  \n",
            "0           0           0  \n",
            "1           0           0  \n",
            "2           0           0  \n",
            "3           1           0  \n",
            "4           0           0  \n"
          ]
        }
      ]
    },
    {
      "cell_type": "markdown",
      "source": [
        "**2. Estimate Parameters:**"
      ],
      "metadata": {
        "id": "5aJBfWjEzyqW"
      }
    },
    {
      "cell_type": "code",
      "source": [
        "from pgmpy.estimators import MaximumLikelihoodEstimator\n",
        "\n",
        "model.fit(data, estimator=MaximumLikelihoodEstimator)\n",
        "for cpd in model.get_cpds():\n",
        "    print(cpd)"
      ],
      "metadata": {
        "colab": {
          "base_uri": "https://localhost:8080/"
        },
        "id": "JnS5FvWrz3dK",
        "outputId": "9ae7c5d1-7a77-4413-b655-49ebb3ce1a7e"
      },
      "execution_count": 19,
      "outputs": [
        {
          "output_type": "stream",
          "name": "stderr",
          "text": [
            "WARNING:pgmpy:Replacing existing CPD for Age\n",
            "WARNING:pgmpy:Replacing existing CPD for Heart Disease\n",
            "WARNING:pgmpy:Replacing existing CPD for Smoking\n",
            "WARNING:pgmpy:Replacing existing CPD for Exercise\n",
            "WARNING:pgmpy:Replacing existing CPD for Cholesterol\n",
            "WARNING:pgmpy:Replacing existing CPD for Blood Pressure\n",
            "WARNING:pgmpy:Replacing existing CPD for Chest Pain\n",
            "WARNING:pgmpy:Replacing existing CPD for ECG Result\n"
          ]
        },
        {
          "output_type": "stream",
          "name": "stdout",
          "text": [
            "+--------+-------+\n",
            "| Age(0) | 0.355 |\n",
            "+--------+-------+\n",
            "| Age(1) | 0.326 |\n",
            "+--------+-------+\n",
            "| Age(2) | 0.319 |\n",
            "+--------+-------+\n",
            "+------------+------+\n",
            "| Smoking(0) | 0.61 |\n",
            "+------------+------+\n",
            "| Smoking(1) | 0.39 |\n",
            "+------------+------+\n",
            "+-------------+-------+\n",
            "| Exercise(0) | 0.569 |\n",
            "+-------------+-------+\n",
            "| Exercise(1) | 0.431 |\n",
            "+-------------+-------+\n",
            "+----------------+-------+\n",
            "| Cholesterol(0) | 0.459 |\n",
            "+----------------+-------+\n",
            "| Cholesterol(1) | 0.541 |\n",
            "+----------------+-------+\n",
            "+-------------------+-------+\n",
            "| Blood Pressure(0) | 0.524 |\n",
            "+-------------------+-------+\n",
            "| Blood Pressure(1) | 0.476 |\n",
            "+-------------------+-------+\n",
            "+--------------------+---------------------+-----+-------------------+-------------------+\n",
            "| Age                | Age(0)              | ... | Age(2)            | Age(2)            |\n",
            "+--------------------+---------------------+-----+-------------------+-------------------+\n",
            "| Blood Pressure     | Blood Pressure(0)   | ... | Blood Pressure(1) | Blood Pressure(1) |\n",
            "+--------------------+---------------------+-----+-------------------+-------------------+\n",
            "| Cholesterol        | Cholesterol(0)      | ... | Cholesterol(1)    | Cholesterol(1)    |\n",
            "+--------------------+---------------------+-----+-------------------+-------------------+\n",
            "| Exercise           | Exercise(0)         | ... | Exercise(1)       | Exercise(1)       |\n",
            "+--------------------+---------------------+-----+-------------------+-------------------+\n",
            "| Smoking            | Smoking(0)          | ... | Smoking(0)        | Smoking(1)        |\n",
            "+--------------------+---------------------+-----+-------------------+-------------------+\n",
            "| Heart Disease(0.0) | 0.918918918918919   | ... | 0.3125            | 0.25              |\n",
            "+--------------------+---------------------+-----+-------------------+-------------------+\n",
            "| Heart Disease(1.0) | 0.08108108108108109 | ... | 0.6875            | 0.75              |\n",
            "+--------------------+---------------------+-----+-------------------+-------------------+\n",
            "+---------------+---------------------+--------------------+\n",
            "| Heart Disease | Heart Disease(0.0)  | Heart Disease(1.0) |\n",
            "+---------------+---------------------+--------------------+\n",
            "| Chest Pain(0) | 0.9004092769440655  | 0.3333333333333333 |\n",
            "+---------------+---------------------+--------------------+\n",
            "| Chest Pain(1) | 0.09959072305593451 | 0.6666666666666666 |\n",
            "+---------------+---------------------+--------------------+\n",
            "+---------------+---------------------+---------------------+\n",
            "| Heart Disease | Heart Disease(0.0)  | Heart Disease(1.0)  |\n",
            "+---------------+---------------------+---------------------+\n",
            "| ECG Result(0) | 0.8540245566166439  | 0.37453183520599254 |\n",
            "+---------------+---------------------+---------------------+\n",
            "| ECG Result(1) | 0.14597544338335608 | 0.6254681647940075  |\n",
            "+---------------+---------------------+---------------------+\n"
          ]
        }
      ]
    },
    {
      "cell_type": "markdown",
      "source": [
        "# **Exercise 6: Network Visualization and Analysis**"
      ],
      "metadata": {
        "id": "dk9wwAPc0Rta"
      }
    },
    {
      "cell_type": "markdown",
      "source": [
        "**1. Visualize the Network:**"
      ],
      "metadata": {
        "id": "QDWHJkSu0RxS"
      }
    },
    {
      "cell_type": "code",
      "source": [
        "import networkx as nx\n",
        "import matplotlib.pyplot as plt\n",
        "\n",
        "nx_graph = nx.DiGraph(model.edges())\n",
        "\n",
        "plt.figure(figsize=(8, 6))\n",
        "pos = nx.spring_layout(nx_graph)\n",
        "nx.draw(nx_graph, pos,\n",
        "        with_labels=True,\n",
        "        node_color='lightblue',\n",
        "        font_weight='bold', arrows=True\n",
        ")\n",
        "plt.title('Bayesian Network Structure')\n",
        "plt.show()"
      ],
      "metadata": {
        "colab": {
          "base_uri": "https://localhost:8080/",
          "height": 659
        },
        "id": "keBSDMlP0ovg",
        "outputId": "43609204-4cb5-49ca-c224-5571118b0888"
      },
      "execution_count": 21,
      "outputs": [
        {
          "output_type": "display_data",
          "data": {
            "text/plain": [
              "<Figure size 800x600 with 1 Axes>"
            ],
            "image/png": "[encoded data removed]"
          },
          "metadata": {}
        }
      ]
    },
    {
      "cell_type": "markdown",
      "source": [
        "**2. Sensitivity Analysis:**"
      ],
      "metadata": {
        "id": "GvQntehN04T-"
      }
    },
    {
      "cell_type": "code",
      "source": [
        "inference = VariableElimination(model)\n",
        "\n",
        "smoking_probabilities = [0.1, 0.3, 0.5, 0.7, 0.9]\n",
        "results = []\n",
        "\n",
        "for prob in smoking_probabilities:\n",
        "\n",
        "    query_result = inference.query(variables=['Heart Disease'], evidence={'Smoking': 1})\n",
        "\n",
        "    heart_disease_prob = query_result.values[1]\n",
        "\n",
        "    results.append([prob, heart_disease_prob])\n",
        "\n",
        "    print(\"Sensitivity Analysis: Effect of Smoking on Heart Disease Probability\")\n",
        "\n",
        "\n",
        "    print(f\"Probability of Smoking: {prob}, P(Heart Disease | Smoking=Yes): {heart_disease_prob:.4f}\")\n",
        "\n",
        "plt.figure(figsize=(10, 6))\n",
        "plt.plot(smoking_probabilities, [row[1] for row in results], marker='o', linestyle='-', color='b')  # Plot heart disease probabilities\n",
        "plt.title('Sensitivity Analysis: Effect of Smoking on Heart Disease Probability')\n",
        "plt.xlabel('Probability of Smoking')\n",
        "plt.ylabel('Probability of Heart Disease (P(Heart Disease | Smoking=Yes))')\n",
        "plt.xticks(np.round(smoking_probabilities, 2))\n",
        "plt.grid()\n",
        "plt.ylim(0, 1)\n",
        "plt.axhline(y=0.5, color='r', linestyle='--', label='Threshold (0.5)')\n",
        "plt.legend()\n",
        "plt.show()"
      ],
      "metadata": {
        "colab": {
          "base_uri": "https://localhost:8080/",
          "height": 911
        },
        "id": "7zouRhOX05Gq",
        "outputId": "593ccdcd-ed5c-4957-e3eb-fb09696ef9ff"
      },
      "execution_count": 25,
      "outputs": [
        {
          "output_type": "stream",
          "name": "stderr",
          "text": [
            "WARNING:pgmpy:BayesianModel has been renamed to BayesianNetwork. Please use BayesianNetwork class, BayesianModel will be removed in future.\n",
            "WARNING:pgmpy:BayesianModel has been renamed to BayesianNetwork. Please use BayesianNetwork class, BayesianModel will be removed in future.\n",
            "WARNING:pgmpy:BayesianModel has been renamed to BayesianNetwork. Please use BayesianNetwork class, BayesianModel will be removed in future.\n",
            "WARNING:pgmpy:BayesianModel has been renamed to BayesianNetwork. Please use BayesianNetwork class, BayesianModel will be removed in future.\n",
            "WARNING:pgmpy:BayesianModel has been renamed to BayesianNetwork. Please use BayesianNetwork class, BayesianModel will be removed in future.\n",
            "WARNING:pgmpy:BayesianModel has been renamed to BayesianNetwork. Please use BayesianNetwork class, BayesianModel will be removed in future.\n",
            "WARNING:pgmpy:BayesianModel has been renamed to BayesianNetwork. Please use BayesianNetwork class, BayesianModel will be removed in future.\n",
            "WARNING:pgmpy:BayesianModel has been renamed to BayesianNetwork. Please use BayesianNetwork class, BayesianModel will be removed in future.\n",
            "WARNING:pgmpy:BayesianModel has been renamed to BayesianNetwork. Please use BayesianNetwork class, BayesianModel will be removed in future.\n",
            "WARNING:pgmpy:BayesianModel has been renamed to BayesianNetwork. Please use BayesianNetwork class, BayesianModel will be removed in future.\n"
          ]
        },
        {
          "output_type": "stream",
          "name": "stdout",
          "text": [
            "Sensitivity Analysis: Effect of Smoking on Heart Disease Probability\n",
            "Probability of Smoking: 0.1, P(Heart Disease | Smoking=Yes): 0.2644\n",
            "Sensitivity Analysis: Effect of Smoking on Heart Disease Probability\n",
            "Probability of Smoking: 0.3, P(Heart Disease | Smoking=Yes): 0.2644\n",
            "Sensitivity Analysis: Effect of Smoking on Heart Disease Probability\n",
            "Probability of Smoking: 0.5, P(Heart Disease | Smoking=Yes): 0.2644\n",
            "Sensitivity Analysis: Effect of Smoking on Heart Disease Probability\n",
            "Probability of Smoking: 0.7, P(Heart Disease | Smoking=Yes): 0.2644\n",
            "Sensitivity Analysis: Effect of Smoking on Heart Disease Probability\n",
            "Probability of Smoking: 0.9, P(Heart Disease | Smoking=Yes): 0.2644\n"
          ]
        },
        {
          "output_type": "display_data",
          "data": {
            "text/plain": [
              "<Figure size 1000x600 with 1 Axes>"
            ],
            "image/png": "[encoded data removed]"
          },
          "metadata": {}
        }
      ]
    }
  ]
}