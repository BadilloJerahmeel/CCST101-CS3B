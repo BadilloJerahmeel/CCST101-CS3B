{
  "nbformat": 4,
  "nbformat_minor": 0,
  "metadata": {
    "colab": {
      "provenance": []
    },
    "kernelspec": {
      "name": "python3",
      "display_name": "Python 3"
    },
    "language_info": {
      "name": "python"
    }
  },
  "cells": [
    {
      "cell_type": "markdown",
      "source": [
        "# Machine Problem: Interactive Probability and Decision-Making in AI"
      ],
      "metadata": {
        "id": "PQLqL0IFEWoZ"
      }
    },
    {
      "cell_type": "markdown",
      "source": [
        "# **Part 1: Implement Basic Probability Calculations**"
      ],
      "metadata": {
        "id": "I7_jxv7bEZyc"
      }
    },
    {
      "cell_type": "code",
      "source": [
        "def joint_probability(p_a, p_b):\n",
        "    \"\"\"\n",
        "    Calculate the joint probability of two independent events A and B.\n",
        "\n",
        "    Parameters:\n",
        "    p_a (float): Probability of event A\n",
        "    p_b (float): Probability of event B\n",
        "\n",
        "    Returns:\n",
        "    float: Joint probability of A and B\n",
        "    \"\"\"\n",
        "    return p_a * p_b\n",
        "\n",
        "def marginal_probability(p_a, joint_p_ab):\n",
        "    \"\"\"\n",
        "    Calculate the marginal probability of event A.\n",
        "\n",
        "    Parameters:\n",
        "    p_a (float): Probability of event A\n",
        "    joint_p_ab (float): Joint probability of events A and B\n",
        "\n",
        "    Returns:\n",
        "    float: Marginal probability of A\n",
        "    \"\"\"\n",
        "    return p_a + (1 - joint_p_ab)\n",
        "\n",
        "def conditional_probability(joint_p_ab, p_b):\n",
        "    \"\"\"\n",
        "    Calculate the conditional probability of event A given event B.\n",
        "\n",
        "    Parameters:\n",
        "    joint_p_ab (float): Joint probability of events A and B\n",
        "    p_b (float): Probability of event B\n",
        "\n",
        "    Returns:\n",
        "    float: Conditional probability P(A|B)\n",
        "    \"\"\"\n",
        "    if p_b == 0:\n",
        "        return 0\n",
        "    return joint_p_ab / p_b\n",
        "\n",
        "def calculate_joint_probability():\n",
        "    print(\"\\n--- Joint Probability Calculation ---\")\n",
        "    try:\n",
        "        p_a = float(input(\"Enter the probability of event A (between 0 and 1): \"))\n",
        "        p_b = float(input(\"Enter the probability of event B (between 0 and 1): \"))\n",
        "\n",
        "        if not (0 <= p_a <= 1) or not (0 <= p_b <= 1):\n",
        "            raise ValueError(\"Probabilities must be between 0 and 1.\")\n",
        "\n",
        "        joint_p_ab = joint_probability(p_a, p_b)\n",
        "        print(f\"The joint probability P(A and B) is: {joint_p_ab:.4f}\")\n",
        "\n",
        "    except ValueError as e:\n",
        "        print(f\"Input error: {e}\")\n",
        "\n",
        "def calculate_marginal_probability():\n",
        "    print(\"\\n--- Marginal Probability Calculation ---\")\n",
        "    try:\n",
        "        p_a = float(input(\"Enter the probability of event A (between 0 and 1): \"))\n",
        "        joint_p_ab = float(input(\"Enter the joint probability P(A and B): \"))\n",
        "\n",
        "        if not (0 <= p_a <= 1) or not (0 <= joint_p_ab <= 1):\n",
        "            raise ValueError(\"Probabilities must be between 0 and 1.\")\n",
        "\n",
        "        marginal_p_a = marginal_probability(p_a, joint_p_ab)\n",
        "        print(f\"The marginal probability P(A) is: {marginal_p_a:.4f}\")\n",
        "\n",
        "    except ValueError as e:\n",
        "        print(f\"Input error: {e}\")\n",
        "\n",
        "def calculate_conditional_probability():\n",
        "    print(\"\\n--- Conditional Probability Calculation ---\")\n",
        "    try:\n",
        "        joint_p_ab = float(input(\"Enter the joint probability P(A and B): \"))\n",
        "        p_b = float(input(\"Enter the probability of event B (between 0 and 1): \"))\n",
        "\n",
        "        if not (0 <= joint_p_ab <= 1) or not (0 <= p_b <= 1):\n",
        "            raise ValueError(\"Probabilities must be between 0 and 1.\")\n",
        "\n",
        "        conditional_p_a_given_b = conditional_probability(joint_p_ab, p_b)\n",
        "        print(f\"The conditional probability P(A|B) is: {conditional_p_a_given_b:.4f}\")\n",
        "\n",
        "    except ValueError as e:\n",
        "        print(f\"Input error: {e}\")\n",
        "\n",
        "def main():\n",
        "    while True:\n",
        "        print(\"\\n--- Probability Calculator Menu ---\")\n",
        "        print(\"1. Calculate Joint Probability\")\n",
        "        print(\"2. Calculate Marginal Probability\")\n",
        "        print(\"3. Calculate Conditional Probability\")\n",
        "        print(\"4. Exit\")\n",
        "\n",
        "        choice = input(\"Select an option (1-4): \")\n",
        "\n",
        "        if choice == '1':\n",
        "            calculate_joint_probability()\n",
        "        elif choice == '2':\n",
        "            calculate_marginal_probability()\n",
        "        elif choice == '3':\n",
        "            calculate_conditional_probability()\n",
        "        elif choice == '4':\n",
        "            print(\"Exiting the program.\")\n",
        "            break\n",
        "        else:\n",
        "            print(\"Invalid option. Please choose a number between 1 and 4.\")\n",
        "\n",
        "if __name__ == \"__main__\":\n",
        "    main()"
      ],
      "metadata": {
        "colab": {
          "base_uri": "https://localhost:8080/",
          "height": 443
        },
        "id": "4KGKZbiBEWys",
        "outputId": "d84d3285-e1e9-4e7e-c06c-1e232a4ee5f5"
      },
      "execution_count": 3,
      "outputs": [
        {
          "output_type": "stream",
          "name": "stdout",
          "text": [
            "\n",
            "--- Probability Calculator Menu ---\n",
            "1. Calculate Joint Probability\n",
            "2. Calculate Marginal Probability\n",
            "3. Calculate Conditional Probability\n",
            "4. Exit\n"
          ]
        },
        {
          "output_type": "error",
          "ename": "KeyboardInterrupt",
          "evalue": "Interrupted by user",
          "traceback": [
            "\u001b[0;31m---------------------------------------------------------------------------\u001b[0m",
            "\u001b[0;31mKeyboardInterrupt\u001b[0m                         Traceback (most recent call last)",
            "\u001b[0;32m<ipython-input-3-eea39ed44d16>\u001b[0m in \u001b[0;36m<cell line: 109>\u001b[0;34m()\u001b[0m\n\u001b[1;32m    108\u001b[0m \u001b[0;34m\u001b[0m\u001b[0m\n\u001b[1;32m    109\u001b[0m \u001b[0;32mif\u001b[0m \u001b[0m__name__\u001b[0m \u001b[0;34m==\u001b[0m \u001b[0;34m\"__main__\"\u001b[0m\u001b[0;34m:\u001b[0m\u001b[0;34m\u001b[0m\u001b[0;34m\u001b[0m\u001b[0m\n\u001b[0;32m--> 110\u001b[0;31m     \u001b[0mmain\u001b[0m\u001b[0;34m(\u001b[0m\u001b[0;34m)\u001b[0m\u001b[0;34m\u001b[0m\u001b[0;34m\u001b[0m\u001b[0m\n\u001b[0m",
            "\u001b[0;32m<ipython-input-3-eea39ed44d16>\u001b[0m in \u001b[0;36mmain\u001b[0;34m()\u001b[0m\n\u001b[1;32m     93\u001b[0m         \u001b[0mprint\u001b[0m\u001b[0;34m(\u001b[0m\u001b[0;34m\"4. Exit\"\u001b[0m\u001b[0;34m)\u001b[0m\u001b[0;34m\u001b[0m\u001b[0;34m\u001b[0m\u001b[0m\n\u001b[1;32m     94\u001b[0m \u001b[0;34m\u001b[0m\u001b[0m\n\u001b[0;32m---> 95\u001b[0;31m         \u001b[0mchoice\u001b[0m \u001b[0;34m=\u001b[0m \u001b[0minput\u001b[0m\u001b[0;34m(\u001b[0m\u001b[0;34m\"Select an option (1-4): \"\u001b[0m\u001b[0;34m)\u001b[0m\u001b[0;34m\u001b[0m\u001b[0;34m\u001b[0m\u001b[0m\n\u001b[0m\u001b[1;32m     96\u001b[0m \u001b[0;34m\u001b[0m\u001b[0m\n\u001b[1;32m     97\u001b[0m         \u001b[0;32mif\u001b[0m \u001b[0mchoice\u001b[0m \u001b[0;34m==\u001b[0m \u001b[0;34m'1'\u001b[0m\u001b[0;34m:\u001b[0m\u001b[0;34m\u001b[0m\u001b[0;34m\u001b[0m\u001b[0m\n",
            "\u001b[0;32m/usr/local/lib/python3.10/dist-packages/ipykernel/kernelbase.py\u001b[0m in \u001b[0;36mraw_input\u001b[0;34m(self, prompt)\u001b[0m\n\u001b[1;32m    849\u001b[0m                 \u001b[0;34m\"raw_input was called, but this frontend does not support input requests.\"\u001b[0m\u001b[0;34m\u001b[0m\u001b[0;34m\u001b[0m\u001b[0m\n\u001b[1;32m    850\u001b[0m             )\n\u001b[0;32m--> 851\u001b[0;31m         return self._input_request(str(prompt),\n\u001b[0m\u001b[1;32m    852\u001b[0m             \u001b[0mself\u001b[0m\u001b[0;34m.\u001b[0m\u001b[0m_parent_ident\u001b[0m\u001b[0;34m,\u001b[0m\u001b[0;34m\u001b[0m\u001b[0;34m\u001b[0m\u001b[0m\n\u001b[1;32m    853\u001b[0m             \u001b[0mself\u001b[0m\u001b[0;34m.\u001b[0m\u001b[0m_parent_header\u001b[0m\u001b[0;34m,\u001b[0m\u001b[0;34m\u001b[0m\u001b[0;34m\u001b[0m\u001b[0m\n",
            "\u001b[0;32m/usr/local/lib/python3.10/dist-packages/ipykernel/kernelbase.py\u001b[0m in \u001b[0;36m_input_request\u001b[0;34m(self, prompt, ident, parent, password)\u001b[0m\n\u001b[1;32m    893\u001b[0m             \u001b[0;32mexcept\u001b[0m \u001b[0mKeyboardInterrupt\u001b[0m\u001b[0;34m:\u001b[0m\u001b[0;34m\u001b[0m\u001b[0;34m\u001b[0m\u001b[0m\n\u001b[1;32m    894\u001b[0m                 \u001b[0;31m# re-raise KeyboardInterrupt, to truncate traceback\u001b[0m\u001b[0;34m\u001b[0m\u001b[0;34m\u001b[0m\u001b[0m\n\u001b[0;32m--> 895\u001b[0;31m                 \u001b[0;32mraise\u001b[0m \u001b[0mKeyboardInterrupt\u001b[0m\u001b[0;34m(\u001b[0m\u001b[0;34m\"Interrupted by user\"\u001b[0m\u001b[0;34m)\u001b[0m \u001b[0;32mfrom\u001b[0m \u001b[0;32mNone\u001b[0m\u001b[0;34m\u001b[0m\u001b[0;34m\u001b[0m\u001b[0m\n\u001b[0m\u001b[1;32m    896\u001b[0m             \u001b[0;32mexcept\u001b[0m \u001b[0mException\u001b[0m \u001b[0;32mas\u001b[0m \u001b[0me\u001b[0m\u001b[0;34m:\u001b[0m\u001b[0;34m\u001b[0m\u001b[0;34m\u001b[0m\u001b[0m\n\u001b[1;32m    897\u001b[0m                 \u001b[0mself\u001b[0m\u001b[0;34m.\u001b[0m\u001b[0mlog\u001b[0m\u001b[0;34m.\u001b[0m\u001b[0mwarning\u001b[0m\u001b[0;34m(\u001b[0m\u001b[0;34m\"Invalid Message:\"\u001b[0m\u001b[0;34m,\u001b[0m \u001b[0mexc_info\u001b[0m\u001b[0;34m=\u001b[0m\u001b[0;32mTrue\u001b[0m\u001b[0;34m)\u001b[0m\u001b[0;34m\u001b[0m\u001b[0;34m\u001b[0m\u001b[0m\n",
            "\u001b[0;31mKeyboardInterrupt\u001b[0m: Interrupted by user"
          ]
        }
      ]
    },
    {
      "cell_type": "markdown",
      "source": [
        "# **Part 2: Bayesian Inference for Real-World Scenarios**"
      ],
      "metadata": {
        "id": "_1YkW9Q5FU9G"
      }
    },
    {
      "cell_type": "code",
      "source": [
        "def bayesian_inference(prior, likelihood, overall):\n",
        "    \"\"\"\n",
        "    Calculate the posterior probability using Bayes' theorem.\n",
        "\n",
        "    Parameters:\n",
        "    prior (float): The prior probability of the disease\n",
        "    likelihood (float): The likelihood of a positive test given the disease\n",
        "    overall (float): The overall probability of a positive test\n",
        "\n",
        "    Returns:\n",
        "    float: The posterior probability of having the disease after a positive test\n",
        "    \"\"\"\n",
        "    if overall == 0:\n",
        "        return 0  # Avoid division by zero\n",
        "    posterior = (likelihood * prior) / overall\n",
        "    return posterior\n",
        "\n",
        "def calculate_bayesian_inference():\n",
        "    print(\"\\n--- Bayesian Inference Calculation ---\")\n",
        "    try:\n",
        "        prior = float(input(\"Enter the prior probability of having the disease (between 0 and 1): \"))\n",
        "        likelihood = float(input(\"Enter the likelihood of a positive test given the disease (between 0 and 1): \"))\n",
        "        overall = float(input(\"Enter the overall probability of a positive test (between 0 and 1): \"))\n",
        "\n",
        "        if not (0 <= prior <= 1) or not (0 <= likelihood <= 1) or not (0 <= overall <= 1):\n",
        "            raise ValueError(\"Probabilities must be between 0 and 1.\")\n",
        "\n",
        "        posterior = bayesian_inference(prior, likelihood, overall)\n",
        "        print(f\"The posterior probability of having the disease after a positive test is: {posterior:.4f}\")\n",
        "\n",
        "    except ValueError as e:\n",
        "        print(f\"Input error: {e}\")\n",
        "\n",
        "def main():\n",
        "    while True:\n",
        "        print(\"\\n--- Probability Calculator Menu ---\")\n",
        "        print(\"1. Calculate Bayesian Inference\")\n",
        "        print(\"2. Exit\")\n",
        "\n",
        "        choice = input(\"Select an option (1-2): \")\n",
        "\n",
        "        if choice == '1':\n",
        "            calculate_bayesian_inference()\n",
        "        elif choice == '2':\n",
        "            print(\"Exiting the program.\")\n",
        "            break\n",
        "        else:\n",
        "            print(\"Invalid option. Please choose a number between 1 and 2.\")\n",
        "\n",
        "if __name__ == \"__main__\":\n",
        "    main()"
      ],
      "metadata": {
        "colab": {
          "base_uri": "https://localhost:8080/",
          "height": 894
        },
        "id": "qT-N0tadFVEt",
        "outputId": "7fb3302a-aba9-438e-cb77-d2bce4c3c6c6"
      },
      "execution_count": 4,
      "outputs": [
        {
          "output_type": "stream",
          "name": "stdout",
          "text": [
            "\n",
            "--- Probability Calculator Menu ---\n",
            "1. Calculate Bayesian Inference\n",
            "2. Exit\n",
            "Select an option (1-2): 1\n",
            "\n",
            "--- Bayesian Inference Calculation ---\n",
            "Enter the prior probability of having the disease (between 0 and 1): 1\n",
            "Enter the likelihood of a positive test given the disease (between 0 and 1): 2\n",
            "Enter the overall probability of a positive test (between 0 and 1): 1\n",
            "Input error: Probabilities must be between 0 and 1.\n",
            "\n",
            "--- Probability Calculator Menu ---\n",
            "1. Calculate Bayesian Inference\n",
            "2. Exit\n",
            "Select an option (1-2): 0\n",
            "Invalid option. Please choose a number between 1 and 2.\n",
            "\n",
            "--- Probability Calculator Menu ---\n",
            "1. Calculate Bayesian Inference\n",
            "2. Exit\n",
            "Select an option (1-2): 1\n",
            "\n",
            "--- Bayesian Inference Calculation ---\n",
            "Enter the prior probability of having the disease (between 0 and 1): 1\n",
            "Enter the likelihood of a positive test given the disease (between 0 and 1): 1\n",
            "Enter the overall probability of a positive test (between 0 and 1): 1\n",
            "The posterior probability of having the disease after a positive test is: 1.0000\n",
            "\n",
            "--- Probability Calculator Menu ---\n",
            "1. Calculate Bayesian Inference\n",
            "2. Exit\n"
          ]
        },
        {
          "output_type": "error",
          "ename": "KeyboardInterrupt",
          "evalue": "Interrupted by user",
          "traceback": [
            "\u001b[0;31m---------------------------------------------------------------------------\u001b[0m",
            "\u001b[0;31mKeyboardInterrupt\u001b[0m                         Traceback (most recent call last)",
            "\u001b[0;32m<ipython-input-4-c5f17db1da21>\u001b[0m in \u001b[0;36m<cell line: 50>\u001b[0;34m()\u001b[0m\n\u001b[1;32m     49\u001b[0m \u001b[0;34m\u001b[0m\u001b[0m\n\u001b[1;32m     50\u001b[0m \u001b[0;32mif\u001b[0m \u001b[0m__name__\u001b[0m \u001b[0;34m==\u001b[0m \u001b[0;34m\"__main__\"\u001b[0m\u001b[0;34m:\u001b[0m\u001b[0;34m\u001b[0m\u001b[0;34m\u001b[0m\u001b[0m\n\u001b[0;32m---> 51\u001b[0;31m     \u001b[0mmain\u001b[0m\u001b[0;34m(\u001b[0m\u001b[0;34m)\u001b[0m\u001b[0;34m\u001b[0m\u001b[0;34m\u001b[0m\u001b[0m\n\u001b[0m",
            "\u001b[0;32m<ipython-input-4-c5f17db1da21>\u001b[0m in \u001b[0;36mmain\u001b[0;34m()\u001b[0m\n\u001b[1;32m     38\u001b[0m         \u001b[0mprint\u001b[0m\u001b[0;34m(\u001b[0m\u001b[0;34m\"2. Exit\"\u001b[0m\u001b[0;34m)\u001b[0m\u001b[0;34m\u001b[0m\u001b[0;34m\u001b[0m\u001b[0m\n\u001b[1;32m     39\u001b[0m \u001b[0;34m\u001b[0m\u001b[0m\n\u001b[0;32m---> 40\u001b[0;31m         \u001b[0mchoice\u001b[0m \u001b[0;34m=\u001b[0m \u001b[0minput\u001b[0m\u001b[0;34m(\u001b[0m\u001b[0;34m\"Select an option (1-2): \"\u001b[0m\u001b[0;34m)\u001b[0m\u001b[0;34m\u001b[0m\u001b[0;34m\u001b[0m\u001b[0m\n\u001b[0m\u001b[1;32m     41\u001b[0m \u001b[0;34m\u001b[0m\u001b[0m\n\u001b[1;32m     42\u001b[0m         \u001b[0;32mif\u001b[0m \u001b[0mchoice\u001b[0m \u001b[0;34m==\u001b[0m \u001b[0;34m'1'\u001b[0m\u001b[0;34m:\u001b[0m\u001b[0;34m\u001b[0m\u001b[0;34m\u001b[0m\u001b[0m\n",
            "\u001b[0;32m/usr/local/lib/python3.10/dist-packages/ipykernel/kernelbase.py\u001b[0m in \u001b[0;36mraw_input\u001b[0;34m(self, prompt)\u001b[0m\n\u001b[1;32m    849\u001b[0m                 \u001b[0;34m\"raw_input was called, but this frontend does not support input requests.\"\u001b[0m\u001b[0;34m\u001b[0m\u001b[0;34m\u001b[0m\u001b[0m\n\u001b[1;32m    850\u001b[0m             )\n\u001b[0;32m--> 851\u001b[0;31m         return self._input_request(str(prompt),\n\u001b[0m\u001b[1;32m    852\u001b[0m             \u001b[0mself\u001b[0m\u001b[0;34m.\u001b[0m\u001b[0m_parent_ident\u001b[0m\u001b[0;34m,\u001b[0m\u001b[0;34m\u001b[0m\u001b[0;34m\u001b[0m\u001b[0m\n\u001b[1;32m    853\u001b[0m             \u001b[0mself\u001b[0m\u001b[0;34m.\u001b[0m\u001b[0m_parent_header\u001b[0m\u001b[0;34m,\u001b[0m\u001b[0;34m\u001b[0m\u001b[0;34m\u001b[0m\u001b[0m\n",
            "\u001b[0;32m/usr/local/lib/python3.10/dist-packages/ipykernel/kernelbase.py\u001b[0m in \u001b[0;36m_input_request\u001b[0;34m(self, prompt, ident, parent, password)\u001b[0m\n\u001b[1;32m    893\u001b[0m             \u001b[0;32mexcept\u001b[0m \u001b[0mKeyboardInterrupt\u001b[0m\u001b[0;34m:\u001b[0m\u001b[0;34m\u001b[0m\u001b[0;34m\u001b[0m\u001b[0m\n\u001b[1;32m    894\u001b[0m                 \u001b[0;31m# re-raise KeyboardInterrupt, to truncate traceback\u001b[0m\u001b[0;34m\u001b[0m\u001b[0;34m\u001b[0m\u001b[0m\n\u001b[0;32m--> 895\u001b[0;31m                 \u001b[0;32mraise\u001b[0m \u001b[0mKeyboardInterrupt\u001b[0m\u001b[0;34m(\u001b[0m\u001b[0;34m\"Interrupted by user\"\u001b[0m\u001b[0;34m)\u001b[0m \u001b[0;32mfrom\u001b[0m \u001b[0;32mNone\u001b[0m\u001b[0;34m\u001b[0m\u001b[0;34m\u001b[0m\u001b[0m\n\u001b[0m\u001b[1;32m    896\u001b[0m             \u001b[0;32mexcept\u001b[0m \u001b[0mException\u001b[0m \u001b[0;32mas\u001b[0m \u001b[0me\u001b[0m\u001b[0;34m:\u001b[0m\u001b[0;34m\u001b[0m\u001b[0;34m\u001b[0m\u001b[0m\n\u001b[1;32m    897\u001b[0m                 \u001b[0mself\u001b[0m\u001b[0;34m.\u001b[0m\u001b[0mlog\u001b[0m\u001b[0;34m.\u001b[0m\u001b[0mwarning\u001b[0m\u001b[0;34m(\u001b[0m\u001b[0;34m\"Invalid Message:\"\u001b[0m\u001b[0;34m,\u001b[0m \u001b[0mexc_info\u001b[0m\u001b[0;34m=\u001b[0m\u001b[0;32mTrue\u001b[0m\u001b[0;34m)\u001b[0m\u001b[0;34m\u001b[0m\u001b[0;34m\u001b[0m\u001b[0m\n",
            "\u001b[0;31mKeyboardInterrupt\u001b[0m: Interrupted by user"
          ]
        }
      ]
    },
    {
      "cell_type": "markdown",
      "source": [
        "# **Part 3: Simulate Decision-Making Under Uncertainty**"
      ],
      "metadata": {
        "id": "hiTRp1PQFyJG"
      }
    },
    {
      "cell_type": "code",
      "source": [
        "import random\n",
        "\n",
        "def simulate_decision(prob_success, reward, penalty, num_trials):\n",
        "    \"\"\"\n",
        "    Simulate a decision-making process with uncertain outcomes.\n",
        "\n",
        "    Parameters:\n",
        "    prob_success (float): Probability of success (between 0 and 1)\n",
        "    reward (float): Reward amount for a successful outcome\n",
        "    penalty (float): Penalty amount for a failed outcome\n",
        "    num_trials (int): Number of trials to run\n",
        "\n",
        "    Returns:\n",
        "    float: Average return from the simulation\n",
        "    \"\"\"\n",
        "    returns = []\n",
        "\n",
        "    # Run through defined number of trials\n",
        "    for _ in range(num_trials):\n",
        "        # Determine if the trial is a success or failure\n",
        "        if random.random() < prob_success:\n",
        "            returns.append(reward)  # Successful outcome\n",
        "        else:\n",
        "            returns.append(-penalty)  # Failed outcome\n",
        "\n",
        "    # Calculate average return from trials\n",
        "    average_return = sum(returns) / num_trials\n",
        "    return average_return\n",
        "\n",
        "def interactive_decision_simulation():\n",
        "    print(\"--- Interactive Decision Simulation ---\")\n",
        "\n",
        "    try:\n",
        "        # User input for decision parameters\n",
        "        prob_success = float(input(\"Enter the probability of success (between 0 and 1): \"))\n",
        "        reward = float(input(\"Enter the reward amount for success: \"))\n",
        "        penalty = float(input(\"Enter the penalty amount for failure: \"))\n",
        "        num_trials = int(input(\"Enter the number of trials to run: \"))\n",
        "\n",
        "        # Validate probability input\n",
        "        if not (0 <= prob_success <= 1):\n",
        "            raise ValueError(\"Probability must be between 0 and 1.\")\n",
        "\n",
        "        # Simulate decision and calculate average return\n",
        "        average_return = simulate_decision(prob_success, reward, penalty, num_trials)\n",
        "        print(f\"Average return after {num_trials} trials: {average_return:.2f}\")\n",
        "\n",
        "    except ValueError as e:\n",
        "        print(f\"Input error: {e}\")\n",
        "\n",
        "def main():\n",
        "    while True:\n",
        "        interactive_decision_simulation()\n",
        "\n",
        "        # Ask user if they want to run another simulation\n",
        "        again = input(\"\\nDo you want to run another simulation? (yes/no): \").strip().lower()\n",
        "        if again != 'yes':\n",
        "            print(\"Exiting the program.\")\n",
        "            break\n",
        "\n",
        "if __name__ == \"__main__\":\n",
        "    main()"
      ],
      "metadata": {
        "colab": {
          "base_uri": "https://localhost:8080/"
        },
        "id": "-aFTpDH9FyUp",
        "outputId": "7253b216-934a-4a1a-dbc0-e448ab55cff6"
      },
      "execution_count": 5,
      "outputs": [
        {
          "output_type": "stream",
          "name": "stdout",
          "text": [
            "--- Interactive Decision Simulation ---\n",
            "Enter the probability of success (between 0 and 1): 0\n",
            "Enter the reward amount for success: 100\n",
            "Enter the penalty amount for failure: 200\n",
            "Enter the number of trials to run: 50\n",
            "Average return after 50 trials: -200.00\n",
            "\n",
            "Do you want to run another simulation? (yes/no): no\n",
            "Exiting the program.\n"
          ]
        }
      ]
    },
    {
      "cell_type": "markdown",
      "source": [
        "# **Part 4: Visualize Probability Distributions**"
      ],
      "metadata": {
        "id": "OcIlJ_42F9_Y"
      }
    },
    {
      "cell_type": "code",
      "source": [
        "import numpy as np\n",
        "import matplotlib.pyplot as plt\n",
        "\n",
        "def simulate_binomial():\n",
        "    print(\"\\n--- Binomial Distribution Simulation ---\")\n",
        "\n",
        "    try:\n",
        "        # User input for binomial parameters\n",
        "        n = int(input(\"Enter the number of trials (e.g., coin flips): \"))\n",
        "        p = float(input(\"Enter the probability of success (between 0 and 1): \"))\n",
        "\n",
        "        # Generate binomial distribution\n",
        "        outcomes = np.random.binomial(n, p, size=n)\n",
        "\n",
        "        # Plot histogram\n",
        "        plt.figure(figsize=(8, 6))\n",
        "        plt.hist(outcomes, bins=n+1, edgecolor='black')\n",
        "        plt.xlabel('Number of successes')\n",
        "        plt.ylabel('Frequency')\n",
        "        plt.title(f'Binomial Distribution (n={n}, p={p:.2f})')\n",
        "        plt.show()\n",
        "\n",
        "    except ValueError as e:\n",
        "        print(f\"Input error: {e}\")\n",
        "\n",
        "def simulate_normal():\n",
        "    print(\"\\n--- Normal Distribution Simulation ---\")\n",
        "\n",
        "    try:\n",
        "        # User input for normal parameters\n",
        "        mean = float(input(\"Enter the mean (average) score: \"))\n",
        "        std_dev = float(input(\"Enter the standard deviation: \"))\n",
        "        num_scores = int(input(\"Enter the number of scores to generate: \"))\n",
        "\n",
        "        # Generate normal distribution\n",
        "        scores = np.random.normal(mean, std_dev, num_scores)\n",
        "\n",
        "        # Plot histogram\n",
        "        plt.figure(figsize=(8, 6))\n",
        "        plt.hist(scores, bins=15, edgecolor='black')\n",
        "        plt.xlabel('Score')\n",
        "        plt.ylabel('Frequency')\n",
        "        plt.title(f'Normal Distribution (μ={mean:.2f}, σ={std_dev:.2f})')\n",
        "        plt.show()\n",
        "\n",
        "    except ValueError as e:\n",
        "        print(f\"Input error: {e}\")\n",
        "\n",
        "def main():\n",
        "    while True:\n",
        "        print(\"\\n--- Probability Distribution Simulator ---\")\n",
        "        print(\"1. Simulate Binomial Distribution (e.g., coin flips)\")\n",
        "        print(\"2. Simulate Normal Distribution (e.g., exam scores)\")\n",
        "        print(\"3. Exit\")\n",
        "\n",
        "        choice = input(\"Select an option (1-3): \")\n",
        "\n",
        "        if choice == '1':\n",
        "            simulate_binomial()\n",
        "        elif choice == '2':\n",
        "            simulate_normal()\n",
        "        elif choice == '3':\n",
        "            print(\"Exiting the program.\")\n",
        "            break\n",
        "        else:\n",
        "            print(\"Invalid option. Please choose a number between 1 and 3.\")\n",
        "\n",
        "if __name__ == \"__main__\":\n",
        "    main()"
      ],
      "metadata": {
        "colab": {
          "base_uri": "https://localhost:8080/",
          "height": 1000
        },
        "id": "_VSH-9NNF-Em",
        "outputId": "04a54379-c333-41bc-a9a0-d95f847fd72a"
      },
      "execution_count": 6,
      "outputs": [
        {
          "name": "stdout",
          "output_type": "stream",
          "text": [
            "\n",
            "--- Probability Distribution Simulator ---\n",
            "1. Simulate Binomial Distribution (e.g., coin flips)\n",
            "2. Simulate Normal Distribution (e.g., exam scores)\n",
            "3. Exit\n",
            "Select an option (1-3): 1\n",
            "\n",
            "--- Binomial Distribution Simulation ---\n",
            "Enter the number of trials (e.g., coin flips): 5\n",
            "Enter the probability of success (between 0 and 1): 0\n"
          ]
        },
        {
          "output_type": "display_data",
          "data": {
            "text/plain": [
              "<Figure size 800x600 with 1 Axes>"
            ],
            "image/png": "[encoded data removed]"
          },
          "metadata": {}
        },
        {
          "output_type": "stream",
          "name": "stdout",
          "text": [
            "\n",
            "--- Probability Distribution Simulator ---\n",
            "1. Simulate Binomial Distribution (e.g., coin flips)\n",
            "2. Simulate Normal Distribution (e.g., exam scores)\n",
            "3. Exit\n"
          ]
        },
        {
          "output_type": "error",
          "ename": "KeyboardInterrupt",
          "evalue": "Interrupted by user",
          "traceback": [
            "\u001b[0;31m---------------------------------------------------------------------------\u001b[0m",
            "\u001b[0;31mKeyboardInterrupt\u001b[0m                         Traceback (most recent call last)",
            "\u001b[0;32m<ipython-input-6-e9a23c540ba1>\u001b[0m in \u001b[0;36m<cell line: 68>\u001b[0;34m()\u001b[0m\n\u001b[1;32m     67\u001b[0m \u001b[0;34m\u001b[0m\u001b[0m\n\u001b[1;32m     68\u001b[0m \u001b[0;32mif\u001b[0m \u001b[0m__name__\u001b[0m \u001b[0;34m==\u001b[0m \u001b[0;34m\"__main__\"\u001b[0m\u001b[0;34m:\u001b[0m\u001b[0;34m\u001b[0m\u001b[0;34m\u001b[0m\u001b[0m\n\u001b[0;32m---> 69\u001b[0;31m     \u001b[0mmain\u001b[0m\u001b[0;34m(\u001b[0m\u001b[0;34m)\u001b[0m\u001b[0;34m\u001b[0m\u001b[0;34m\u001b[0m\u001b[0m\n\u001b[0m",
            "\u001b[0;32m<ipython-input-6-e9a23c540ba1>\u001b[0m in \u001b[0;36mmain\u001b[0;34m()\u001b[0m\n\u001b[1;32m     54\u001b[0m         \u001b[0mprint\u001b[0m\u001b[0;34m(\u001b[0m\u001b[0;34m\"3. Exit\"\u001b[0m\u001b[0;34m)\u001b[0m\u001b[0;34m\u001b[0m\u001b[0;34m\u001b[0m\u001b[0m\n\u001b[1;32m     55\u001b[0m \u001b[0;34m\u001b[0m\u001b[0m\n\u001b[0;32m---> 56\u001b[0;31m         \u001b[0mchoice\u001b[0m \u001b[0;34m=\u001b[0m \u001b[0minput\u001b[0m\u001b[0;34m(\u001b[0m\u001b[0;34m\"Select an option (1-3): \"\u001b[0m\u001b[0;34m)\u001b[0m\u001b[0;34m\u001b[0m\u001b[0;34m\u001b[0m\u001b[0m\n\u001b[0m\u001b[1;32m     57\u001b[0m \u001b[0;34m\u001b[0m\u001b[0m\n\u001b[1;32m     58\u001b[0m         \u001b[0;32mif\u001b[0m \u001b[0mchoice\u001b[0m \u001b[0;34m==\u001b[0m \u001b[0;34m'1'\u001b[0m\u001b[0;34m:\u001b[0m\u001b[0;34m\u001b[0m\u001b[0;34m\u001b[0m\u001b[0m\n",
            "\u001b[0;32m/usr/local/lib/python3.10/dist-packages/ipykernel/kernelbase.py\u001b[0m in \u001b[0;36mraw_input\u001b[0;34m(self, prompt)\u001b[0m\n\u001b[1;32m    849\u001b[0m                 \u001b[0;34m\"raw_input was called, but this frontend does not support input requests.\"\u001b[0m\u001b[0;34m\u001b[0m\u001b[0;34m\u001b[0m\u001b[0m\n\u001b[1;32m    850\u001b[0m             )\n\u001b[0;32m--> 851\u001b[0;31m         return self._input_request(str(prompt),\n\u001b[0m\u001b[1;32m    852\u001b[0m             \u001b[0mself\u001b[0m\u001b[0;34m.\u001b[0m\u001b[0m_parent_ident\u001b[0m\u001b[0;34m,\u001b[0m\u001b[0;34m\u001b[0m\u001b[0;34m\u001b[0m\u001b[0m\n\u001b[1;32m    853\u001b[0m             \u001b[0mself\u001b[0m\u001b[0;34m.\u001b[0m\u001b[0m_parent_header\u001b[0m\u001b[0;34m,\u001b[0m\u001b[0;34m\u001b[0m\u001b[0;34m\u001b[0m\u001b[0m\n",
            "\u001b[0;32m/usr/local/lib/python3.10/dist-packages/ipykernel/kernelbase.py\u001b[0m in \u001b[0;36m_input_request\u001b[0;34m(self, prompt, ident, parent, password)\u001b[0m\n\u001b[1;32m    893\u001b[0m             \u001b[0;32mexcept\u001b[0m \u001b[0mKeyboardInterrupt\u001b[0m\u001b[0;34m:\u001b[0m\u001b[0;34m\u001b[0m\u001b[0;34m\u001b[0m\u001b[0m\n\u001b[1;32m    894\u001b[0m                 \u001b[0;31m# re-raise KeyboardInterrupt, to truncate traceback\u001b[0m\u001b[0;34m\u001b[0m\u001b[0;34m\u001b[0m\u001b[0m\n\u001b[0;32m--> 895\u001b[0;31m                 \u001b[0;32mraise\u001b[0m \u001b[0mKeyboardInterrupt\u001b[0m\u001b[0;34m(\u001b[0m\u001b[0;34m\"Interrupted by user\"\u001b[0m\u001b[0;34m)\u001b[0m \u001b[0;32mfrom\u001b[0m \u001b[0;32mNone\u001b[0m\u001b[0;34m\u001b[0m\u001b[0;34m\u001b[0m\u001b[0m\n\u001b[0m\u001b[1;32m    896\u001b[0m             \u001b[0;32mexcept\u001b[0m \u001b[0mException\u001b[0m \u001b[0;32mas\u001b[0m \u001b[0me\u001b[0m\u001b[0;34m:\u001b[0m\u001b[0;34m\u001b[0m\u001b[0;34m\u001b[0m\u001b[0m\n\u001b[1;32m    897\u001b[0m                 \u001b[0mself\u001b[0m\u001b[0;34m.\u001b[0m\u001b[0mlog\u001b[0m\u001b[0;34m.\u001b[0m\u001b[0mwarning\u001b[0m\u001b[0;34m(\u001b[0m\u001b[0;34m\"Invalid Message:\"\u001b[0m\u001b[0;34m,\u001b[0m \u001b[0mexc_info\u001b[0m\u001b[0;34m=\u001b[0m\u001b[0;32mTrue\u001b[0m\u001b[0;34m)\u001b[0m\u001b[0;34m\u001b[0m\u001b[0;34m\u001b[0m\u001b[0m\n",
            "\u001b[0;31mKeyboardInterrupt\u001b[0m: Interrupted by user"
          ]
        }
      ]
    },
    {
      "cell_type": "markdown",
      "source": [
        "# **Part 5: Real-World Scenario Prediction**"
      ],
      "metadata": {
        "id": "AlE52QkTGEuB"
      }
    },
    {
      "cell_type": "code",
      "source": [
        "def calculate_rain_probability(humidity, cloud_cover):\n",
        "    \"\"\"\n",
        "    Calculate the probability of rain based on humidity and cloud cover.\n",
        "\n",
        "    Parameters:\n",
        "    humidity (float): Humidity level (between 0 and 1)\n",
        "    cloud_cover (float): Cloud cover level (between 0 and 1)\n",
        "\n",
        "    Returns:\n",
        "    float: Probability of rain\n",
        "    \"\"\"\n",
        "    # Conditional probabilities based on humidity and cloud cover\n",
        "    p_rain_given_high_humidity = 0.8\n",
        "    p_rain_given_low_humidity = 0.2\n",
        "    p_rain_given_high_cloud_cover = 0.7\n",
        "    p_rain_given_low_cloud_cover = 0.3\n",
        "\n",
        "    # Calculate the probability of rain using conditional probabilities\n",
        "    if humidity > 0.6 and cloud_cover > 0.6:\n",
        "        probability_of_rain = p_rain_given_high_humidity * p_rain_given_high_cloud_cover\n",
        "    elif humidity > 0.6:\n",
        "        probability_of_rain = p_rain_given_high_humidity * p_rain_given_low_cloud_cover\n",
        "    elif cloud_cover > 0.6:\n",
        "        probability_of_rain = p_rain_given_low_humidity * p_rain_given_high_cloud_cover\n",
        "    else:\n",
        "        probability_of_rain = p_rain_given_low_humidity * p_rain_given_low_cloud_cover\n",
        "\n",
        "    return probability_of_rain\n",
        "\n",
        "def main():\n",
        "    print(\"--- Rain Probability Predictor ---\")\n",
        "\n",
        "    try:\n",
        "        # User input for humidity and cloud cover\n",
        "        humidity = float(input(\"Enter the humidity level (between 0 and 1): \"))\n",
        "        cloud_cover = float(input(\"Enter the cloud cover level (between 0 and 1): \"))\n",
        "\n",
        "        # Validate input values\n",
        "        if not (0 <= humidity <= 1) or not (0 <= cloud_cover <= 1):\n",
        "            raise ValueError(\"Humidity and cloud cover must be between 0 and 1.\")\n",
        "\n",
        "        # Calculate the probability of rain\n",
        "        probability_of_rain = calculate_rain_probability(humidity, cloud_cover)\n",
        "\n",
        "        # Provide feedback based on the probability of rain\n",
        "        if probability_of_rain > 0.7:\n",
        "            feedback = \"It is very likely to rain.\"\n",
        "        elif probability_of_rain > 0.4:\n",
        "            feedback = \"It is moderately likely to rain.\"\n",
        "        else:\n",
        "            feedback = \"It is unlikely to rain.\"\n",
        "\n",
        "        print(f\"The probability of rain is: {probability_of_rain:.2f}\")\n",
        "        print(feedback)\n",
        "\n",
        "    except ValueError as e:\n",
        "        print(f\"Input error: {e}\")\n",
        "\n",
        "if __name__ == \"__main__\":\n",
        "    main()"
      ],
      "metadata": {
        "colab": {
          "base_uri": "https://localhost:8080/"
        },
        "id": "GGrBEF-ZGE08",
        "outputId": "be15a1f6-2e42-4fa8-c560-ce27d4618846"
      },
      "execution_count": 8,
      "outputs": [
        {
          "output_type": "stream",
          "name": "stdout",
          "text": [
            "--- Rain Probability Predictor ---\n",
            "Enter the humidity level (between 0 and 1): 1\n",
            "Enter the cloud cover level (between 0 and 1): 1\n",
            "The probability of rain is: 0.56\n",
            "It is moderately likely to rain.\n"
          ]
        }
      ]
    }
  ]
}