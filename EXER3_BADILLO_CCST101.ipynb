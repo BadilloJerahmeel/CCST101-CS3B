{
  "nbformat": 4,
  "nbformat_minor": 0,
  "metadata": {
    "colab": {
      "provenance": []
    },
    "kernelspec": {
      "name": "python3",
      "display_name": "Python 3"
    },
    "language_info": {
      "name": "python"
    }
  },
  "cells": [
    {
      "cell_type": "markdown",
      "source": [
        "# **Part: 1 Defining the problem and system Design**\n",
        "\n",
        "1. Select a disease for diagnosis\n",
        "\n",
        "**Answer:**\n",
        "\n",
        "**Disease:** Heart disease\n",
        "\n",
        "**Contributing Factors:**\n",
        "\n",
        "*   High Cholesterol\n",
        "*   Smoking\n",
        "*   Obesity\n",
        "*   High blood pressure\n",
        "\n",
        "\n",
        "\n",
        "\n",
        "\n"
      ],
      "metadata": {
        "id": "OknuCVeVAxQY"
      }
    },
    {
      "cell_type": "markdown",
      "source": [
        "# **Part 2: Basic probability Calculations**\n",
        "\n",
        "2. Bayesian Inference Calculation\n",
        "\n",
        "\n",
        "\n",
        "\n",
        "\n",
        "\n",
        "P(Disease) = 0.02\n",
        "\n",
        "p(Positive|Disease) = 0.95\n",
        "\n",
        "P(Positive|No Disease)= 0.05\n",
        "\n",
        "P(Positive)=0.06\n",
        "\n",
        "\n",
        "$$\n",
        "\\frac{P(Positive | Disease) \\cdot P(Disease)}{P(Positive)}\n",
        "$$\n",
        "\n",
        "P(Disease | Positive) = (0.95 * 0.02) / 0.06\n",
        "\n",
        "= 0.019 / 0.06\n",
        "\n",
        "P(Disease | Positive) ≈ 0.3167\n",
        "\n",
        "\n",
        "Posterior probability = 0.32 or 32%\n",
        "\n",
        "\n",
        "\n",
        "\n",
        "\n",
        "\n",
        "\n"
      ],
      "metadata": {
        "id": "ltl4LH_eDij-"
      }
    },
    {
      "cell_type": "markdown",
      "source": [
        "# **Part 3: Decision making Simulation**\n",
        "\n",
        "**Task:** calculate the expected health improvement for the patient based on these probabilities\n",
        "\n",
        "**Formula:**  Expected health improvement = P(Success) *benefit + P(Failure) * Loss\n",
        "\n",
        "\n",
        "# **Given:**\n",
        "\n",
        "**Probability of Success (P(Success))**: 70% or 0.70\n",
        "\n",
        "**Benefit from Success:** 100 points\n",
        "\n",
        "**Probability of Failure (P(Failure)):** 30% or 0.30\n",
        "\n",
        "**Loss from Failure:** -50 points (a reduction in health\n",
        "\n",
        "# **Calculation**\n",
        "\n",
        "P(Success)×Benefit=0.70×100=70\n",
        "\n",
        "P(Failure)×Loss=0.30×(−50)=−15\n",
        "\n",
        "Expected Health Improvement=70+(−15)=55\n",
        "\n",
        "Expected Improvement: **55 points**\n"
      ],
      "metadata": {
        "id": "tIk4rWHMO8JT"
      }
    },
    {
      "cell_type": "code",
      "source": [
        "P_success = 0.70\n",
        "benefit = 100\n",
        "P_failure = 0.30\n",
        "loss = -50\n",
        "\n",
        "expected_health_improvement = (P_success * benefit) + (P_failure * loss)\n",
        "\n",
        "print(\"Expected Health Improvement:\", expected_health_improvement, \"points\")"
      ],
      "metadata": {
        "colab": {
          "base_uri": "https://localhost:8080/"
        },
        "id": "fTkxHvuvlQJN",
        "outputId": "393712e8-88ae-4c89-8447-a1b993f072e9"
      },
      "execution_count": 1,
      "outputs": [
        {
          "output_type": "stream",
          "name": "stdout",
          "text": [
            "Expected Health Improvement: 55.0 points\n"
          ]
        }
      ]
    },
    {
      "cell_type": "markdown",
      "source": [
        "# **Part 4: visualize a probability distributionpar**\n",
        "\n",
        "\n",
        "**visualize a probability distribution**\n",
        "\n",
        "**Given:**\n",
        "\n",
        "Number of Trials (n): 5 (the number of coin flips)\n",
        "Probability of Success (p): 0.5 (the probability of getting heads on each flip)"
      ],
      "metadata": {
        "id": "TFWLtX7Klbrd"
      }
    },
    {
      "cell_type": "code",
      "source": [
        "import numpy as np\n",
        "import matplotlib.pyplot as plt\n",
        "from scipy.stats import binom\n",
        "\n",
        "n = 5\n",
        "p = 0.5\n",
        "\n",
        "\n",
        "x = np.arange(0, n + 1)\n",
        "binom_dist = binom.pmf(x, n, p)\n",
        "\n",
        "\n",
        "plt.bar(x, binom_dist, color='skyblue')\n",
        "plt.xlabel('Number of Heads')\n",
        "plt.ylabel('Probability')\n",
        "plt.title('Binomial Distribution: Probability of Getting Heads in 5 Coin Flips')\n",
        "plt.xticks(x)\n",
        "plt.grid(axis='y', linestyle='--', alpha=0.7)\n",
        "plt.show()"
      ],
      "metadata": {
        "colab": {
          "base_uri": "https://localhost:8080/",
          "height": 472
        },
        "id": "QreIrgU_mSse",
        "outputId": "affdacee-d992-4b45-aa4e-81c95cfb79a8"
      },
      "execution_count": 2,
      "outputs": [
        {
          "output_type": "display_data",
          "data": {
            "text/plain": [
              "<Figure size 640x480 with 1 Axes>"
            ],
            "image/png": "[encoded data removed]"
          },
          "metadata": {}
        }
      ]
    },
    {
      "cell_type": "markdown",
      "source": [
        "# **Part 5: Reflection**\n",
        "Understanding probability theory is essential in medical diagnosis systems as it provides a structured framework for quantifying uncertainty and making informed decisions based on available data. By applying concepts such as Bayesian inference, healthcare professionals can update their beliefs about a patient's condition as new evidence emerges, such as test results or symptoms. This probabilistic reasoning allows clinicians to assess the likelihood of various diagnoses more accurately, weigh the potential benefits and risks of different treatment options, and ultimately enhance patient care. For instance, by calculating the posterior probabilities of diseases given specific symptoms, doctors can prioritize interventions that are most likely to improve patient outcomes, thus improving the overall effectiveness of medical decision-making"
      ],
      "metadata": {
        "id": "czXd3tT-m_4e"
      }
    }
  ]
}