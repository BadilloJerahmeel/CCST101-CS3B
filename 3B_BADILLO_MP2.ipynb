{
  "nbformat": 4,
  "nbformat_minor": 0,
  "metadata": {
    "colab": {
      "provenance": [],
      "authorship_tag": "ABX9TyONkSOjVBm3EhbnV4dQDvIg",
      "include_colab_link": true
    },
    "kernelspec": {
      "name": "python3",
      "display_name": "Python 3"
    },
    "language_info": {
      "name": "python"
    }
  },
  "cells": [
    {
      "cell_type": "markdown",
      "metadata": {
        "id": "view-in-github",
        "colab_type": "text"
      },
      "source": [
        "<a href=\"https://colab.research.google.com/github/BadilloJerahmeel/CCST101-CS3B/blob/main/3B_BADILLO_MP2.ipynb\" target=\"_parent\"><img src=\"https://colab.research.google.com/assets/colab-badge.svg\" alt=\"Open In Colab\"/></a>"
      ]
    },
    {
      "cell_type": "markdown",
      "source": [
        "# **Propositional Logic Operations**\n",
        "\n",
        "**Explanation:**\n",
        "The match will not light: This indicates that since it is raining, the ground is wet, and the match cannot light.\n",
        "Logical AND: True because both is_ground_wet and rains are True.\n",
        "Logical OR: True because at least one of is_ground_wet or rains is True.\n",
        "Negation: False because is_ground_wet is True.\n",
        "Implication: False because is_ground_wet is True and match_lights_condition is False."
      ],
      "metadata": {
        "id": "oGctQ6BjFpJ3"
      }
    },
    {
      "cell_type": "code",
      "source": [
        "rains = True\n",
        "\n",
        "def ground_wet(rains):\n",
        "    return rains\n",
        "\n",
        "def match_lights(ground_wet):\n",
        "    return not ground_wet\n",
        "\n",
        "# Implementing propositional logic functions\n",
        "def and_operation(p, q):\n",
        "    return p and q\n",
        "\n",
        "def or_operation(p, q):\n",
        "    return p or q\n",
        "\n",
        "def not_operation(p):\n",
        "    return not p\n",
        "\n",
        "def implies_operation(p, q):\n",
        "    return not p or q\n",
        "\n",
        "# Main logic\n",
        "if rains:\n",
        "    is_ground_wet = ground_wet(rains)\n",
        "    can_match_light = match_lights(is_ground_wet)\n",
        "\n",
        "    # Using the logical functions\n",
        "    match_lights_condition = not_operation(is_ground_wet)\n",
        "    implies_condition = implies_operation(is_ground_wet, match_lights_condition)\n",
        "\n",
        "    if match_lights_condition:\n",
        "        print(\"The match will light\")\n",
        "    else:\n",
        "        print(\"The match will not light\")\n",
        "\n",
        "    # Demonstrating the propositional logic functions\n",
        "    print(f\"Logical AND of is_ground_wet and rains: {and_operation(is_ground_wet, rains)}\")\n",
        "    print(f\"Logical OR of is_ground_wet and rains: {or_operation(is_ground_wet, rains)}\")\n",
        "    print(f\"Negation of is_ground_wet: {not_operation(is_ground_wet)}\")\n",
        "    print(f\"Implication (is_ground_wet implies match_lights_condition): {implies_operation(is_ground_wet, match_lights_condition)}\")"
      ],
      "metadata": {
        "id": "6AeBxT1GFs5S"
      },
      "execution_count": null,
      "outputs": []
    },
    {
      "cell_type": "markdown",
      "source": [
        "# **Evaluation function**\n",
        "\n",
        "**Explanation:** This code demonstrates the usage of the evaluate function by creating a list of test statements and their corresponding truth values. It then evaluates each statement using the evaluate function and stores the results in a dictionary. The output shows the evaluated truth values for each statement based on the provided truth values for the propositions."
      ],
      "metadata": {
        "id": "yUzJvXdyF1Nw"
      }
    },
    {
      "cell_type": "code",
      "source": [
        "def evaluate(statement, values):\n",
        "    # Define custom replacements for logical operators\n",
        "    replacements = {\n",
        "        'and': ' and ',\n",
        "        'or': ' or ',\n",
        "        'not': ' not ',\n",
        "        'implies': ' <= ',  # Custom operator handling for implies\n",
        "    }\n",
        "\n",
        "    # Replace the propositions in the statement with their corresponding truth values\n",
        "    for prop, val in values.items():\n",
        "        statement = statement.replace(prop, str(val))\n",
        "\n",
        "    # Replace logical operations with Python equivalents\n",
        "    for key, value in replacements.items():\n",
        "        statement = statement.replace(key, value)\n",
        "\n",
        "    # Evaluate the modified statement using eval\n",
        "    return eval(statement)\n",
        "\n",
        "\n",
        "# Test statements and values\n",
        "statements = [\n",
        "    (\"A and B\", {\"A\": True, \"B\": False}),\n",
        "    (\"A or B\", {\"A\": True, \"B\": False}),\n",
        "    (\"not A\", {\"A\": True}),\n",
        "    (\"A implies B\", {\"A\": True, \"B\": False})\n",
        "]\n",
        "\n",
        "# Demonstrate evaluation\n",
        "results = {stmt: evaluate(stmt, vals) for stmt, vals in statements}\n",
        "print(results)"
      ],
      "metadata": {
        "colab": {
          "base_uri": "https://localhost:8080/"
        },
        "id": "pY3oPyjEBGEY",
        "outputId": "a7677340-6065-40cb-e36e-f41b4e113a64"
      },
      "execution_count": 3,
      "outputs": [
        {
          "output_type": "stream",
          "name": "stdout",
          "text": [
            "{'A and B': False, 'A or B': True, 'not A': False, 'A implies B': False}\n"
          ]
        }
      ]
    },
    {
      "cell_type": "markdown",
      "source": [
        "# **Extend to predicate logic**\n",
        "\n",
        "**Explanation:**  The functions forall and exists allow you to evaluate predicates over a specified domain, supporting the concepts of universal and existential quantification in predicate logic. This extension enhances the logical evaluation capabilities beyond simple propositional logic, enabling more complex logical reasoning."
      ],
      "metadata": {
        "id": "dX9IYD3oGCfg"
      }
    },
    {
      "cell_type": "code",
      "source": [
        "def forall(predicate, domain):\n",
        "    \"\"\"\n",
        "    Evaluate whether the predicate holds for all elements in the domain.\n",
        "    :param predicate: A function that takes one argument and returns a boolean.\n",
        "    :param domain: An iterable representing the domain of discourse.\n",
        "    :return: True if the predicate is true for all elements, False otherwise.\n",
        "    \"\"\"\n",
        "    return all(predicate(x) for x in domain)\n",
        "\n",
        "def exists(predicate, domain):\n",
        "    \"\"\"\n",
        "    Evaluate whether the predicate holds for at least one element in the domain.\n",
        "    :param predicate: A function that takes one argument and returns a boolean.\n",
        "    :param domain: An iterable representing the domain of discourse.\n",
        "    :return: True if the predicate is true for at least one element, False otherwise.\n",
        "    \"\"\"\n",
        "    return any(predicate(x) for x in domain)\n",
        "\n",
        "\n",
        "# Define a predicate function\n",
        "def is_even(x):\n",
        "    return x % 2 == 0\n",
        "\n",
        "# Define a domain\n",
        "numbers = [2, 4, 6, 8]\n",
        "\n",
        "# Evaluate using the forall function\n",
        "all_even = forall(is_even, numbers)\n",
        "print(f\"All numbers are even: {all_even}\")  # Output: True\n",
        "\n",
        "# Define another domain with at least one odd number\n",
        "mixed_numbers = [1, 2, 3, 4]\n",
        "\n",
        "# Evaluate using the exists function\n",
        "any_even = exists(is_even, mixed_numbers)\n",
        "print(f\"At least one number is even: {any_even}\")  # Output: True\n",
        "\n",
        "# Check with a domain that has no even numbers\n",
        "odd_numbers = [1, 3, 5, 7]\n",
        "all_even_odd = forall(is_even, odd_numbers)\n",
        "print(f\"All numbers are even: {all_even_odd}\")  # Output: False"
      ],
      "metadata": {
        "colab": {
          "base_uri": "https://localhost:8080/"
        },
        "id": "o7ECCM_gCfUk",
        "outputId": "8384e4f9-5a57-4796-fffc-824ecdd3fbe7"
      },
      "execution_count": 5,
      "outputs": [
        {
          "output_type": "stream",
          "name": "stdout",
          "text": [
            "All numbers are even: True\n",
            "At least one number is even: True\n",
            "All numbers are even: False\n"
          ]
        }
      ]
    },
    {
      "cell_type": "markdown",
      "source": [
        "# **AI agent development**\n",
        "\n",
        "**Explanation:** This chatbot serves as a basic example of an AI agent that can recognize user input and make decisions based on predefined logic. While it operates on simple rules and responses, it demonstrates key principles of conversational AI, including natural language processing, decision-making, and user interaction."
      ],
      "metadata": {
        "id": "o-_UkQZzGJHu"
      }
    },
    {
      "cell_type": "code",
      "source": [
        "def is_greeting(statement):\n",
        "    greetings = [\"hello\", \"hi\", \"hey\"]\n",
        "    return statement.lower() in greetings\n",
        "\n",
        "def make_decision(weather, resources):\n",
        "    \"\"\"\n",
        "    Determine the action of the AI agent based on weather and resource conditions.\n",
        "    :param weather: A string representing the weather condition.\n",
        "    :param resources: A string representing the availability of resources.\n",
        "    :return: A string indicating the action taken by the agent.\n",
        "    \"\"\"\n",
        "    # Define predicates for decision-making\n",
        "    is_sunny = weather == \"Sunny\"\n",
        "    is_rainy = weather == \"Rainy\"\n",
        "    is_cloudy = weather == \"Cloudy\"\n",
        "    resources_available = resources == \"Available\"\n",
        "\n",
        "    # Decision logic using propositional logic\n",
        "    if is_sunny and resources_available:\n",
        "        return \"Go for a walk\"\n",
        "    elif is_rainy:\n",
        "        return \"Stay indoors\"\n",
        "    elif is_cloudy and not resources_available:\n",
        "        return \"Stay indoors\"\n",
        "    elif is_cloudy and resources_available:\n",
        "        return \"Gather resources\"\n",
        "    else:\n",
        "        return \"No decision made\"\n",
        "\n",
        "def respond(statement):\n",
        "    if is_greeting(statement):\n",
        "        return \"Hello! How can I help you today?\"\n",
        "    elif \"weather\" in statement.lower():\n",
        "        weather = \"Sunny\"  # Assuming sunny weather for simplicity\n",
        "        resources = \"Available\"  # Assuming resources are available\n",
        "        action = make_decision(weather, resources)\n",
        "        return f\"Based on the current weather and available resources, I recommend: {action}.\"\n",
        "    else:\n",
        "        return \"I'm afraid I don't understand. Could you please rephrase your question or request?\"\n",
        "\n",
        "def chat():\n",
        "    print(\"Welcome to the chatbot! Type 'exit' to end the conversation.\")\n",
        "    while True:\n",
        "        user_input = input(\"User: \")\n",
        "        if user_input.lower() == \"exit\":\n",
        "            print(\"Chatbot: Goodbye!\")\n",
        "            break\n",
        "        response = respond(user_input)\n",
        "        print(f\"Chatbot: {response}\")\n",
        "\n",
        "if __name__ == \"__main__\":\n",
        "    chat()"
      ],
      "metadata": {
        "colab": {
          "base_uri": "https://localhost:8080/"
        },
        "id": "1FEf7pxJDN7U",
        "outputId": "efea5db0-5dc4-4cc9-f53f-0fccaf6a4afe"
      },
      "execution_count": null,
      "outputs": [
        {
          "output_type": "stream",
          "name": "stdout",
          "text": [
            "Welcome to the chatbot! Type 'exit' to end the conversation.\n",
            "User: hi\n",
            "Chatbot: Hello! How can I help you today?\n",
            "User: sunny\n",
            "Chatbot: I'm afraid I don't understand. Could you please rephrase your question or request?\n",
            "User: weather\n",
            "Chatbot: Based on the current weather and available resources, I recommend: Go for a walk.\n"
          ]
        }
      ]
    }
  ]
}